{
  "cells": [
    {
      "cell_type": "markdown",
      "metadata": {
        "id": "view-in-github",
        "colab_type": "text"
      },
      "source": [
        "<a href=\"https://colab.research.google.com/github/DCajiao/Time-series-forecast-of-energy-consumption-in-Tetouan-City/blob/main/notebooks/04_RNN_modeling.ipynb\" target=\"_parent\"><img src=\"https://colab.research.google.com/assets/colab-badge.svg\" alt=\"Open In Colab\"/></a>"
      ]
    },
    {
      "cell_type": "markdown",
      "id": "a241516a",
      "metadata": {
        "id": "a241516a"
      },
      "source": [
        "### Entrenamiento, Predicción y Evaluación de un modelo RNN"
      ]
    },
    {
      "cell_type": "code",
      "source": [
        "import requests\n",
        "import numpy as np\n",
        "import pandas as pd\n",
        "import matplotlib.pyplot as plt\n",
        "import seaborn as sns\n",
        "\n",
        "import tensorflow as tf\n",
        "\n",
        "from datetime import datetime\n",
        "from io import BytesIO\n",
        "\n",
        "DATA_GITHUB_URL = 'https://raw.githubusercontent.com/DCajiao/Time-series-forecast-of-energy-consumption-in-Tetouan-City/refs/heads/main/data/zone1_power_consumption_of_tetouan_city.csv'\n",
        "\n",
        "# Descargar los datos desde github\n",
        "response = requests.get(DATA_GITHUB_URL)\n",
        "\n",
        "# Convertir en un df desde el xlsx de github\n",
        "df = pd.read_csv(BytesIO(response.content), sep=',')"
      ],
      "metadata": {
        "id": "d9SlSN6ZP6CR"
      },
      "id": "d9SlSN6ZP6CR",
      "execution_count": 1,
      "outputs": []
    },
    {
      "cell_type": "code",
      "source": [
        "df[\"datetime\"] = pd.to_datetime(df[\"datetime\"])\n",
        "df = df.set_index(\"datetime\")\n",
        "\n",
        "# Ahora solo quedan las columnas numéricas\n",
        "df.head()"
      ],
      "metadata": {
        "id": "JcB7JXJvfH9_",
        "outputId": "bf14dae4-63be-49e2-c534-ef075fbaa7ad",
        "colab": {
          "base_uri": "https://localhost:8080/",
          "height": 238
        }
      },
      "id": "JcB7JXJvfH9_",
      "execution_count": 2,
      "outputs": [
        {
          "output_type": "execute_result",
          "data": {
            "text/plain": [
              "                     temperature  humidity  wind_speed  general_diffuse_flows  \\\n",
              "datetime                                                                        \n",
              "2017-01-01 00:00:00        6.559      73.8       0.083                  0.051   \n",
              "2017-01-01 00:10:00        6.414      74.5       0.083                  0.070   \n",
              "2017-01-01 00:20:00        6.313      74.5       0.080                  0.062   \n",
              "2017-01-01 00:30:00        6.121      75.0       0.083                  0.091   \n",
              "2017-01-01 00:40:00        5.921      75.7       0.081                  0.048   \n",
              "\n",
              "                          zone_1  \n",
              "datetime                          \n",
              "2017-01-01 00:00:00  34055.69620  \n",
              "2017-01-01 00:10:00  29814.68354  \n",
              "2017-01-01 00:20:00  29128.10127  \n",
              "2017-01-01 00:30:00  28228.86076  \n",
              "2017-01-01 00:40:00  27335.69620  "
            ],
            "text/html": [
              "\n",
              "  <div id=\"df-a745b243-1d18-4e30-96a0-ade13f41a73f\" class=\"colab-df-container\">\n",
              "    <div>\n",
              "<style scoped>\n",
              "    .dataframe tbody tr th:only-of-type {\n",
              "        vertical-align: middle;\n",
              "    }\n",
              "\n",
              "    .dataframe tbody tr th {\n",
              "        vertical-align: top;\n",
              "    }\n",
              "\n",
              "    .dataframe thead th {\n",
              "        text-align: right;\n",
              "    }\n",
              "</style>\n",
              "<table border=\"1\" class=\"dataframe\">\n",
              "  <thead>\n",
              "    <tr style=\"text-align: right;\">\n",
              "      <th></th>\n",
              "      <th>temperature</th>\n",
              "      <th>humidity</th>\n",
              "      <th>wind_speed</th>\n",
              "      <th>general_diffuse_flows</th>\n",
              "      <th>zone_1</th>\n",
              "    </tr>\n",
              "    <tr>\n",
              "      <th>datetime</th>\n",
              "      <th></th>\n",
              "      <th></th>\n",
              "      <th></th>\n",
              "      <th></th>\n",
              "      <th></th>\n",
              "    </tr>\n",
              "  </thead>\n",
              "  <tbody>\n",
              "    <tr>\n",
              "      <th>2017-01-01 00:00:00</th>\n",
              "      <td>6.559</td>\n",
              "      <td>73.8</td>\n",
              "      <td>0.083</td>\n",
              "      <td>0.051</td>\n",
              "      <td>34055.69620</td>\n",
              "    </tr>\n",
              "    <tr>\n",
              "      <th>2017-01-01 00:10:00</th>\n",
              "      <td>6.414</td>\n",
              "      <td>74.5</td>\n",
              "      <td>0.083</td>\n",
              "      <td>0.070</td>\n",
              "      <td>29814.68354</td>\n",
              "    </tr>\n",
              "    <tr>\n",
              "      <th>2017-01-01 00:20:00</th>\n",
              "      <td>6.313</td>\n",
              "      <td>74.5</td>\n",
              "      <td>0.080</td>\n",
              "      <td>0.062</td>\n",
              "      <td>29128.10127</td>\n",
              "    </tr>\n",
              "    <tr>\n",
              "      <th>2017-01-01 00:30:00</th>\n",
              "      <td>6.121</td>\n",
              "      <td>75.0</td>\n",
              "      <td>0.083</td>\n",
              "      <td>0.091</td>\n",
              "      <td>28228.86076</td>\n",
              "    </tr>\n",
              "    <tr>\n",
              "      <th>2017-01-01 00:40:00</th>\n",
              "      <td>5.921</td>\n",
              "      <td>75.7</td>\n",
              "      <td>0.081</td>\n",
              "      <td>0.048</td>\n",
              "      <td>27335.69620</td>\n",
              "    </tr>\n",
              "  </tbody>\n",
              "</table>\n",
              "</div>\n",
              "    <div class=\"colab-df-buttons\">\n",
              "\n",
              "  <div class=\"colab-df-container\">\n",
              "    <button class=\"colab-df-convert\" onclick=\"convertToInteractive('df-a745b243-1d18-4e30-96a0-ade13f41a73f')\"\n",
              "            title=\"Convert this dataframe to an interactive table.\"\n",
              "            style=\"display:none;\">\n",
              "\n",
              "  <svg xmlns=\"http://www.w3.org/2000/svg\" height=\"24px\" viewBox=\"0 -960 960 960\">\n",
              "    <path d=\"M120-120v-720h720v720H120Zm60-500h600v-160H180v160Zm220 220h160v-160H400v160Zm0 220h160v-160H400v160ZM180-400h160v-160H180v160Zm440 0h160v-160H620v160ZM180-180h160v-160H180v160Zm440 0h160v-160H620v160Z\"/>\n",
              "  </svg>\n",
              "    </button>\n",
              "\n",
              "  <style>\n",
              "    .colab-df-container {\n",
              "      display:flex;\n",
              "      gap: 12px;\n",
              "    }\n",
              "\n",
              "    .colab-df-convert {\n",
              "      background-color: #E8F0FE;\n",
              "      border: none;\n",
              "      border-radius: 50%;\n",
              "      cursor: pointer;\n",
              "      display: none;\n",
              "      fill: #1967D2;\n",
              "      height: 32px;\n",
              "      padding: 0 0 0 0;\n",
              "      width: 32px;\n",
              "    }\n",
              "\n",
              "    .colab-df-convert:hover {\n",
              "      background-color: #E2EBFA;\n",
              "      box-shadow: 0px 1px 2px rgba(60, 64, 67, 0.3), 0px 1px 3px 1px rgba(60, 64, 67, 0.15);\n",
              "      fill: #174EA6;\n",
              "    }\n",
              "\n",
              "    .colab-df-buttons div {\n",
              "      margin-bottom: 4px;\n",
              "    }\n",
              "\n",
              "    [theme=dark] .colab-df-convert {\n",
              "      background-color: #3B4455;\n",
              "      fill: #D2E3FC;\n",
              "    }\n",
              "\n",
              "    [theme=dark] .colab-df-convert:hover {\n",
              "      background-color: #434B5C;\n",
              "      box-shadow: 0px 1px 3px 1px rgba(0, 0, 0, 0.15);\n",
              "      filter: drop-shadow(0px 1px 2px rgba(0, 0, 0, 0.3));\n",
              "      fill: #FFFFFF;\n",
              "    }\n",
              "  </style>\n",
              "\n",
              "    <script>\n",
              "      const buttonEl =\n",
              "        document.querySelector('#df-a745b243-1d18-4e30-96a0-ade13f41a73f button.colab-df-convert');\n",
              "      buttonEl.style.display =\n",
              "        google.colab.kernel.accessAllowed ? 'block' : 'none';\n",
              "\n",
              "      async function convertToInteractive(key) {\n",
              "        const element = document.querySelector('#df-a745b243-1d18-4e30-96a0-ade13f41a73f');\n",
              "        const dataTable =\n",
              "          await google.colab.kernel.invokeFunction('convertToInteractive',\n",
              "                                                    [key], {});\n",
              "        if (!dataTable) return;\n",
              "\n",
              "        const docLinkHtml = 'Like what you see? Visit the ' +\n",
              "          '<a target=\"_blank\" href=https://colab.research.google.com/notebooks/data_table.ipynb>data table notebook</a>'\n",
              "          + ' to learn more about interactive tables.';\n",
              "        element.innerHTML = '';\n",
              "        dataTable['output_type'] = 'display_data';\n",
              "        await google.colab.output.renderOutput(dataTable, element);\n",
              "        const docLink = document.createElement('div');\n",
              "        docLink.innerHTML = docLinkHtml;\n",
              "        element.appendChild(docLink);\n",
              "      }\n",
              "    </script>\n",
              "  </div>\n",
              "\n",
              "\n",
              "    <div id=\"df-c8db7ee3-d30e-4094-a3e8-0986e6129616\">\n",
              "      <button class=\"colab-df-quickchart\" onclick=\"quickchart('df-c8db7ee3-d30e-4094-a3e8-0986e6129616')\"\n",
              "                title=\"Suggest charts\"\n",
              "                style=\"display:none;\">\n",
              "\n",
              "<svg xmlns=\"http://www.w3.org/2000/svg\" height=\"24px\"viewBox=\"0 0 24 24\"\n",
              "     width=\"24px\">\n",
              "    <g>\n",
              "        <path d=\"M19 3H5c-1.1 0-2 .9-2 2v14c0 1.1.9 2 2 2h14c1.1 0 2-.9 2-2V5c0-1.1-.9-2-2-2zM9 17H7v-7h2v7zm4 0h-2V7h2v10zm4 0h-2v-4h2v4z\"/>\n",
              "    </g>\n",
              "</svg>\n",
              "      </button>\n",
              "\n",
              "<style>\n",
              "  .colab-df-quickchart {\n",
              "      --bg-color: #E8F0FE;\n",
              "      --fill-color: #1967D2;\n",
              "      --hover-bg-color: #E2EBFA;\n",
              "      --hover-fill-color: #174EA6;\n",
              "      --disabled-fill-color: #AAA;\n",
              "      --disabled-bg-color: #DDD;\n",
              "  }\n",
              "\n",
              "  [theme=dark] .colab-df-quickchart {\n",
              "      --bg-color: #3B4455;\n",
              "      --fill-color: #D2E3FC;\n",
              "      --hover-bg-color: #434B5C;\n",
              "      --hover-fill-color: #FFFFFF;\n",
              "      --disabled-bg-color: #3B4455;\n",
              "      --disabled-fill-color: #666;\n",
              "  }\n",
              "\n",
              "  .colab-df-quickchart {\n",
              "    background-color: var(--bg-color);\n",
              "    border: none;\n",
              "    border-radius: 50%;\n",
              "    cursor: pointer;\n",
              "    display: none;\n",
              "    fill: var(--fill-color);\n",
              "    height: 32px;\n",
              "    padding: 0;\n",
              "    width: 32px;\n",
              "  }\n",
              "\n",
              "  .colab-df-quickchart:hover {\n",
              "    background-color: var(--hover-bg-color);\n",
              "    box-shadow: 0 1px 2px rgba(60, 64, 67, 0.3), 0 1px 3px 1px rgba(60, 64, 67, 0.15);\n",
              "    fill: var(--button-hover-fill-color);\n",
              "  }\n",
              "\n",
              "  .colab-df-quickchart-complete:disabled,\n",
              "  .colab-df-quickchart-complete:disabled:hover {\n",
              "    background-color: var(--disabled-bg-color);\n",
              "    fill: var(--disabled-fill-color);\n",
              "    box-shadow: none;\n",
              "  }\n",
              "\n",
              "  .colab-df-spinner {\n",
              "    border: 2px solid var(--fill-color);\n",
              "    border-color: transparent;\n",
              "    border-bottom-color: var(--fill-color);\n",
              "    animation:\n",
              "      spin 1s steps(1) infinite;\n",
              "  }\n",
              "\n",
              "  @keyframes spin {\n",
              "    0% {\n",
              "      border-color: transparent;\n",
              "      border-bottom-color: var(--fill-color);\n",
              "      border-left-color: var(--fill-color);\n",
              "    }\n",
              "    20% {\n",
              "      border-color: transparent;\n",
              "      border-left-color: var(--fill-color);\n",
              "      border-top-color: var(--fill-color);\n",
              "    }\n",
              "    30% {\n",
              "      border-color: transparent;\n",
              "      border-left-color: var(--fill-color);\n",
              "      border-top-color: var(--fill-color);\n",
              "      border-right-color: var(--fill-color);\n",
              "    }\n",
              "    40% {\n",
              "      border-color: transparent;\n",
              "      border-right-color: var(--fill-color);\n",
              "      border-top-color: var(--fill-color);\n",
              "    }\n",
              "    60% {\n",
              "      border-color: transparent;\n",
              "      border-right-color: var(--fill-color);\n",
              "    }\n",
              "    80% {\n",
              "      border-color: transparent;\n",
              "      border-right-color: var(--fill-color);\n",
              "      border-bottom-color: var(--fill-color);\n",
              "    }\n",
              "    90% {\n",
              "      border-color: transparent;\n",
              "      border-bottom-color: var(--fill-color);\n",
              "    }\n",
              "  }\n",
              "</style>\n",
              "\n",
              "      <script>\n",
              "        async function quickchart(key) {\n",
              "          const quickchartButtonEl =\n",
              "            document.querySelector('#' + key + ' button');\n",
              "          quickchartButtonEl.disabled = true;  // To prevent multiple clicks.\n",
              "          quickchartButtonEl.classList.add('colab-df-spinner');\n",
              "          try {\n",
              "            const charts = await google.colab.kernel.invokeFunction(\n",
              "                'suggestCharts', [key], {});\n",
              "          } catch (error) {\n",
              "            console.error('Error during call to suggestCharts:', error);\n",
              "          }\n",
              "          quickchartButtonEl.classList.remove('colab-df-spinner');\n",
              "          quickchartButtonEl.classList.add('colab-df-quickchart-complete');\n",
              "        }\n",
              "        (() => {\n",
              "          let quickchartButtonEl =\n",
              "            document.querySelector('#df-c8db7ee3-d30e-4094-a3e8-0986e6129616 button');\n",
              "          quickchartButtonEl.style.display =\n",
              "            google.colab.kernel.accessAllowed ? 'block' : 'none';\n",
              "        })();\n",
              "      </script>\n",
              "    </div>\n",
              "\n",
              "    </div>\n",
              "  </div>\n"
            ],
            "application/vnd.google.colaboratory.intrinsic+json": {
              "type": "dataframe",
              "variable_name": "df",
              "summary": "{\n  \"name\": \"df\",\n  \"rows\": 52416,\n  \"fields\": [\n    {\n      \"column\": \"datetime\",\n      \"properties\": {\n        \"dtype\": \"date\",\n        \"min\": \"2017-01-01 00:00:00\",\n        \"max\": \"2017-12-30 23:50:00\",\n        \"num_unique_values\": 52416,\n        \"samples\": [\n          \"2017-04-18 16:20:00\",\n          \"2017-12-27 17:10:00\",\n          \"2017-01-02 11:20:00\"\n        ],\n        \"semantic_type\": \"\",\n        \"description\": \"\"\n      }\n    },\n    {\n      \"column\": \"temperature\",\n      \"properties\": {\n        \"dtype\": \"number\",\n        \"std\": 5.815475838908487,\n        \"min\": 3.247,\n        \"max\": 40.01,\n        \"num_unique_values\": 3437,\n        \"samples\": [\n          25.74,\n          6.094,\n          16.52\n        ],\n        \"semantic_type\": \"\",\n        \"description\": \"\"\n      }\n    },\n    {\n      \"column\": \"humidity\",\n      \"properties\": {\n        \"dtype\": \"number\",\n        \"std\": 15.551177174320571,\n        \"min\": 11.34,\n        \"max\": 94.8,\n        \"num_unique_values\": 4443,\n        \"samples\": [\n          49.76,\n          39.74,\n          56.64\n        ],\n        \"semantic_type\": \"\",\n        \"description\": \"\"\n      }\n    },\n    {\n      \"column\": \"wind_speed\",\n      \"properties\": {\n        \"dtype\": \"number\",\n        \"std\": 2.3488619538836693,\n        \"min\": 0.05,\n        \"max\": 6.483,\n        \"num_unique_values\": 548,\n        \"samples\": [\n          0.208,\n          4.907,\n          0.197\n        ],\n        \"semantic_type\": \"\",\n        \"description\": \"\"\n      }\n    },\n    {\n      \"column\": \"general_diffuse_flows\",\n      \"properties\": {\n        \"dtype\": \"number\",\n        \"std\": 264.40095966803864,\n        \"min\": 0.004,\n        \"max\": 1163.0,\n        \"num_unique_values\": 10504,\n        \"samples\": [\n          349.6,\n          42.05,\n          79.8\n        ],\n        \"semantic_type\": \"\",\n        \"description\": \"\"\n      }\n    },\n    {\n      \"column\": \"zone_1\",\n      \"properties\": {\n        \"dtype\": \"number\",\n        \"std\": 7130.562564198575,\n        \"min\": 13895.6962,\n        \"max\": 52204.39512,\n        \"num_unique_values\": 27709,\n        \"samples\": [\n          32068.86076,\n          31453.1291,\n          29877.63676\n        ],\n        \"semantic_type\": \"\",\n        \"description\": \"\"\n      }\n    }\n  ]\n}"
            }
          },
          "metadata": {},
          "execution_count": 2
        }
      ]
    },
    {
      "cell_type": "code",
      "source": [
        "# Evaluación\n",
        "def smape(y_true, y_pred):\n",
        "    y_true, y_pred = np.array(y_true), np.array(y_pred)\n",
        "    denominator = (np.abs(y_true) + np.abs(y_pred)) / 2\n",
        "    return np.mean(np.abs(y_true - y_pred) / denominator) * 100\n",
        "\n",
        "def wape(y_true, y_pred):\n",
        "    y_true, y_pred = np.array(y_true), np.array(y_pred)\n",
        "    return np.sum(np.abs(y_true - y_pred)) / np.sum(np.abs(y_true)) * 100"
      ],
      "metadata": {
        "id": "prLXuCtLQ7bp"
      },
      "id": "prLXuCtLQ7bp",
      "execution_count": 3,
      "outputs": []
    },
    {
      "cell_type": "markdown",
      "id": "84b66acb",
      "metadata": {
        "id": "84b66acb"
      },
      "source": [
        "#### **Entrenamiento**"
      ]
    },
    {
      "cell_type": "code",
      "execution_count": 4,
      "id": "48071eeb",
      "metadata": {
        "id": "48071eeb",
        "outputId": "97ad10ec-14b1-4128-bfdd-d433f06562c8",
        "colab": {
          "base_uri": "https://localhost:8080/"
        }
      },
      "outputs": [
        {
          "output_type": "stream",
          "name": "stdout",
          "text": [
            "Número de características (features): 5\n"
          ]
        }
      ],
      "source": [
        "# Índices por % para train, val, test\n",
        "n = len(df)\n",
        "train_df = df[0:int(n*0.7)]\n",
        "val_df = df[int(n*0.7):int(n*0.9)]\n",
        "test_df = df[int(n*0.9):]\n",
        "\n",
        "num_features = df.shape[1]\n",
        "\n",
        "print(f\"Número de características (features): {num_features}\")"
      ]
    },
    {
      "cell_type": "code",
      "source": [
        "train_mean = train_df.mean()\n",
        "train_std = train_df.std()\n",
        "\n",
        "train_df = (train_df - train_mean) / train_std\n",
        "val_df = (val_df - train_mean) / train_std\n",
        "test_df = (test_df - train_mean) / train_std"
      ],
      "metadata": {
        "id": "3yvk0hUcex4v"
      },
      "id": "3yvk0hUcex4v",
      "execution_count": 5,
      "outputs": []
    },
    {
      "cell_type": "code",
      "source": [
        "class WindowGenerator():\n",
        "    def __init__(self, input_width, label_width, shift,\n",
        "               train_df=train_df, val_df=val_df, test_df=test_df,\n",
        "               label_columns=None):\n",
        "\n",
        "        self.train_df = train_df\n",
        "        self.val_df = val_df\n",
        "        self.test_df = test_df\n",
        "\n",
        "        self.label_columns = label_columns\n",
        "        if label_columns is not None:\n",
        "            self.label_columns_indices = {name: i for i, name in\n",
        "                                          enumerate(label_columns)}\n",
        "        self.column_indices = {name: i for i, name in\n",
        "                               enumerate(train_df.columns)}\n",
        "\n",
        "        self.input_width = input_width\n",
        "        self.label_width = label_width\n",
        "        self.shift = shift\n",
        "\n",
        "        self.total_window_size = input_width + shift\n",
        "\n",
        "        self.input_slice = slice(0, input_width)\n",
        "        self.input_indices = np.arange(self.total_window_size)[self.input_slice]\n",
        "\n",
        "        self.label_start = self.total_window_size - self.label_width\n",
        "        self.labels_slice = slice(self.label_start, None)\n",
        "        self.label_indices = np.arange(self.total_window_size)[self.labels_slice]\n",
        "\n",
        "    def split_window(self, features):\n",
        "        inputs = features[:, self.input_slice, :]\n",
        "        labels = features[:, self.labels_slice, :]\n",
        "\n",
        "        if self.label_columns is not None:\n",
        "            labels = tf.stack(\n",
        "                [labels[:, :, self.column_indices[name]] for name in self.label_columns],\n",
        "                axis=-1)\n",
        "\n",
        "        inputs.set_shape([None, self.input_width, None])\n",
        "        labels.set_shape([None, self.label_width, None])\n",
        "\n",
        "        return inputs, labels\n",
        "\n",
        "    def make_dataset(self, data):\n",
        "        data = np.array(data, dtype=np.float32)\n",
        "        ds = tf.keras.utils.timeseries_dataset_from_array(\n",
        "            data=data,\n",
        "            targets=None,\n",
        "            sequence_length=self.total_window_size,\n",
        "            sequence_stride=1,\n",
        "            shuffle=True,\n",
        "            batch_size=32,)\n",
        "        ds = ds.map(self.split_window)\n",
        "        return ds\n",
        "\n",
        "    @property\n",
        "    def train(self):\n",
        "        return self.make_dataset(self.train_df)\n",
        "\n",
        "    @property\n",
        "    def val(self):\n",
        "        return self.make_dataset(self.val_df)\n",
        "\n",
        "    @property\n",
        "    def test(self):\n",
        "        return self.make_dataset(self.test_df)\n",
        "\n",
        "    @property\n",
        "    def example(self):\n",
        "        result = getattr(self, '_example', None)\n",
        "        if result is None:\n",
        "            result = next(iter(self.train))\n",
        "            self._example = result\n",
        "        return result"
      ],
      "metadata": {
        "id": "5ZTpE5asfX7z"
      },
      "id": "5ZTpE5asfX7z",
      "execution_count": 6,
      "outputs": []
    },
    {
      "cell_type": "code",
      "source": [
        "# Predicción a 1 paso (10 minutos adelante)\n",
        "single_step_window = WindowGenerator(\n",
        "    input_width=18, label_width=1, shift=1, label_columns=[\"zone_1\"])\n",
        "\n",
        "# Predicción multi-step (18 pasos = 3 horas adelante)\n",
        "multi_step_window = WindowGenerator(\n",
        "    input_width=18, label_width=18, shift=18, label_columns=[\"zone_1\"])"
      ],
      "metadata": {
        "id": "CF3f9tcXfZ4r"
      },
      "id": "CF3f9tcXfZ4r",
      "execution_count": 7,
      "outputs": []
    },
    {
      "cell_type": "code",
      "source": [
        "from tensorflow.keras import Sequential\n",
        "from tensorflow.keras.layers import SimpleRNN, Dense\n",
        "\n",
        "def compile_and_fit(model, window, patience=3, epochs=20):\n",
        "    early_stopping = tf.keras.callbacks.EarlyStopping(monitor='val_loss',\n",
        "                                                    patience=patience,\n",
        "                                                    mode='min')\n",
        "    model.compile(loss=tf.keras.losses.MeanSquaredError(),\n",
        "                  optimizer=tf.keras.optimizers.Adam(),\n",
        "                  metrics=[tf.keras.metrics.MeanAbsoluteError()])\n",
        "    history = model.fit(window.train, validation_data=window.val,\n",
        "                        epochs=epochs, callbacks=[early_stopping])\n",
        "    return history"
      ],
      "metadata": {
        "id": "25B7fVJRffwl"
      },
      "id": "25B7fVJRffwl",
      "execution_count": 8,
      "outputs": []
    },
    {
      "cell_type": "code",
      "source": [],
      "metadata": {
        "id": "6blmQ-b84Z6k"
      },
      "id": "6blmQ-b84Z6k",
      "execution_count": null,
      "outputs": []
    },
    {
      "cell_type": "markdown",
      "id": "2a5878d9",
      "metadata": {
        "id": "2a5878d9"
      },
      "source": [
        "---"
      ]
    },
    {
      "cell_type": "markdown",
      "id": "b85dda6b",
      "metadata": {
        "id": "b85dda6b"
      },
      "source": [
        "#### **Predicción**"
      ]
    },
    {
      "cell_type": "markdown",
      "id": "be775a60",
      "metadata": {
        "id": "be775a60"
      },
      "source": [
        "A un paso"
      ]
    },
    {
      "cell_type": "code",
      "execution_count": 9,
      "id": "97874192",
      "metadata": {
        "id": "97874192",
        "outputId": "3442b1cd-4ff6-49aa-8291-4129ba3cf752",
        "colab": {
          "base_uri": "https://localhost:8080/"
        }
      },
      "outputs": [
        {
          "output_type": "stream",
          "name": "stdout",
          "text": [
            "Epoch 1/20\n",
            "\u001b[1m1147/1147\u001b[0m \u001b[32m━━━━━━━━━━━━━━━━━━━━\u001b[0m\u001b[37m\u001b[0m \u001b[1m14s\u001b[0m 11ms/step - loss: 0.2785 - mean_absolute_error: 0.3952 - val_loss: 0.1793 - val_mean_absolute_error: 0.3169\n",
            "Epoch 2/20\n",
            "\u001b[1m1147/1147\u001b[0m \u001b[32m━━━━━━━━━━━━━━━━━━━━\u001b[0m\u001b[37m\u001b[0m \u001b[1m10s\u001b[0m 9ms/step - loss: 0.1681 - mean_absolute_error: 0.3007 - val_loss: 0.1675 - val_mean_absolute_error: 0.3027\n",
            "Epoch 3/20\n",
            "\u001b[1m1147/1147\u001b[0m \u001b[32m━━━━━━━━━━━━━━━━━━━━\u001b[0m\u001b[37m\u001b[0m \u001b[1m11s\u001b[0m 10ms/step - loss: 0.1485 - mean_absolute_error: 0.2763 - val_loss: 0.1685 - val_mean_absolute_error: 0.3059\n",
            "Epoch 4/20\n",
            "\u001b[1m1147/1147\u001b[0m \u001b[32m━━━━━━━━━━━━━━━━━━━━\u001b[0m\u001b[37m\u001b[0m \u001b[1m19s\u001b[0m 8ms/step - loss: 0.1406 - mean_absolute_error: 0.2670 - val_loss: 0.1945 - val_mean_absolute_error: 0.3164\n",
            "Epoch 5/20\n",
            "\u001b[1m1147/1147\u001b[0m \u001b[32m━━━━━━━━━━━━━━━━━━━━\u001b[0m\u001b[37m\u001b[0m \u001b[1m11s\u001b[0m 9ms/step - loss: 0.1338 - mean_absolute_error: 0.2584 - val_loss: 0.1935 - val_mean_absolute_error: 0.3139\n",
            "\u001b[1m328/328\u001b[0m \u001b[32m━━━━━━━━━━━━━━━━━━━━\u001b[0m\u001b[37m\u001b[0m \u001b[1m1s\u001b[0m 4ms/step - loss: 0.1946 - mean_absolute_error: 0.3154\n",
            "\u001b[1m164/164\u001b[0m \u001b[32m━━━━━━━━━━━━━━━━━━━━\u001b[0m\u001b[37m\u001b[0m \u001b[1m1s\u001b[0m 4ms/step - loss: 0.1516 - mean_absolute_error: 0.2857\n",
            "SimpleRNN (single-step) Validation: {'loss': 0.1935136914253235, 'mean_absolute_error': 0.3138526976108551}\n",
            "SimpleRNN (single-step) Test: {'loss': 0.15602301061153412, 'mean_absolute_error': 0.2891867756843567}\n"
          ]
        }
      ],
      "source": [
        "# Ventana single-step\n",
        "single_step_window = WindowGenerator(\n",
        "    input_width=18, label_width=1, shift=1,\n",
        "    label_columns=[\"zone_1\"]\n",
        ")\n",
        "\n",
        "# Modelo con SimpleRNN\n",
        "simple_rnn_single = Sequential([\n",
        "    SimpleRNN(64, return_sequences=True),    # recurrente simple\n",
        "    Dense(units=1)                           # salida 1 paso adelante\n",
        "])\n",
        "\n",
        "# Entrenamiento\n",
        "history_single = compile_and_fit(simple_rnn_single, single_step_window)\n",
        "\n",
        "# Evaluación\n",
        "val_single = simple_rnn_single.evaluate(single_step_window.val, return_dict=True)\n",
        "test_single = simple_rnn_single.evaluate(single_step_window.test, return_dict=True)\n",
        "\n",
        "print(\"SimpleRNN (single-step) Validation:\", val_single)\n",
        "print(\"SimpleRNN (single-step) Test:\", test_single)"
      ]
    },
    {
      "cell_type": "markdown",
      "id": "98ab5ee0",
      "metadata": {
        "id": "98ab5ee0"
      },
      "source": [
        "A múltiples pasos"
      ]
    },
    {
      "cell_type": "code",
      "execution_count": 10,
      "id": "056f13e0",
      "metadata": {
        "id": "056f13e0",
        "outputId": "3ced1491-457a-4000-e321-881d94f881fc",
        "colab": {
          "base_uri": "https://localhost:8080/"
        }
      },
      "outputs": [
        {
          "output_type": "stream",
          "name": "stdout",
          "text": [
            "Epoch 1/20\n",
            "\u001b[1m1146/1146\u001b[0m \u001b[32m━━━━━━━━━━━━━━━━━━━━\u001b[0m\u001b[37m\u001b[0m \u001b[1m11s\u001b[0m 8ms/step - loss: 0.2374 - mean_absolute_error: 0.3547 - val_loss: 0.1408 - val_mean_absolute_error: 0.2775\n",
            "Epoch 2/20\n",
            "\u001b[1m1146/1146\u001b[0m \u001b[32m━━━━━━━━━━━━━━━━━━━━\u001b[0m\u001b[37m\u001b[0m \u001b[1m10s\u001b[0m 8ms/step - loss: 0.1065 - mean_absolute_error: 0.2323 - val_loss: 0.1502 - val_mean_absolute_error: 0.2749\n",
            "Epoch 3/20\n",
            "\u001b[1m1146/1146\u001b[0m \u001b[32m━━━━━━━━━━━━━━━━━━━━\u001b[0m\u001b[37m\u001b[0m \u001b[1m12s\u001b[0m 10ms/step - loss: 0.0925 - mean_absolute_error: 0.2129 - val_loss: 0.1161 - val_mean_absolute_error: 0.2378\n",
            "Epoch 4/20\n",
            "\u001b[1m1146/1146\u001b[0m \u001b[32m━━━━━━━━━━━━━━━━━━━━\u001b[0m\u001b[37m\u001b[0m \u001b[1m18s\u001b[0m 7ms/step - loss: 0.0795 - mean_absolute_error: 0.1956 - val_loss: 0.1089 - val_mean_absolute_error: 0.2334\n",
            "Epoch 5/20\n",
            "\u001b[1m1146/1146\u001b[0m \u001b[32m━━━━━━━━━━━━━━━━━━━━\u001b[0m\u001b[37m\u001b[0m \u001b[1m11s\u001b[0m 8ms/step - loss: 0.0781 - mean_absolute_error: 0.1921 - val_loss: 0.1030 - val_mean_absolute_error: 0.2231\n",
            "Epoch 6/20\n",
            "\u001b[1m1146/1146\u001b[0m \u001b[32m━━━━━━━━━━━━━━━━━━━━\u001b[0m\u001b[37m\u001b[0m \u001b[1m10s\u001b[0m 8ms/step - loss: 0.0704 - mean_absolute_error: 0.1814 - val_loss: 0.1320 - val_mean_absolute_error: 0.2521\n",
            "Epoch 7/20\n",
            "\u001b[1m1146/1146\u001b[0m \u001b[32m━━━━━━━━━━━━━━━━━━━━\u001b[0m\u001b[37m\u001b[0m \u001b[1m10s\u001b[0m 9ms/step - loss: 0.0667 - mean_absolute_error: 0.1764 - val_loss: 0.1129 - val_mean_absolute_error: 0.2355\n",
            "Epoch 8/20\n",
            "\u001b[1m1146/1146\u001b[0m \u001b[32m━━━━━━━━━━━━━━━━━━━━\u001b[0m\u001b[37m\u001b[0m \u001b[1m11s\u001b[0m 9ms/step - loss: 0.0646 - mean_absolute_error: 0.1735 - val_loss: 0.1125 - val_mean_absolute_error: 0.2280\n",
            "\u001b[1m327/327\u001b[0m \u001b[32m━━━━━━━━━━━━━━━━━━━━\u001b[0m\u001b[37m\u001b[0m \u001b[1m1s\u001b[0m 4ms/step - loss: 0.1128 - mean_absolute_error: 0.2289\n",
            "\u001b[1m163/163\u001b[0m \u001b[32m━━━━━━━━━━━━━━━━━━━━\u001b[0m\u001b[37m\u001b[0m \u001b[1m1s\u001b[0m 4ms/step - loss: 0.0773 - mean_absolute_error: 0.1972\n",
            "SimpleRNN (multi-step) Validation: {'loss': 0.11253973841667175, 'mean_absolute_error': 0.2280476987361908}\n",
            "SimpleRNN (multi-step) Test: {'loss': 0.08023957163095474, 'mean_absolute_error': 0.2008315622806549}\n"
          ]
        }
      ],
      "source": [
        "# Ventana multi-step (18 pasos = 3 horas al futuro)\n",
        "multi_step_window = WindowGenerator(\n",
        "    input_width=18, label_width=18, shift=18,\n",
        "    label_columns=[\"zone_1\"]\n",
        ")\n",
        "\n",
        "simple_rnn_multi = Sequential([\n",
        "    SimpleRNN(64, return_sequences=False),   # ahora solo última salida\n",
        "    Dense(18),                               # salida: 18 pasos adelante\n",
        "    tf.keras.layers.Reshape([18, 1])         # dar forma correcta (batch, 18, 1)\n",
        "])\n",
        "\n",
        "# Entrenamiento\n",
        "history_multi = compile_and_fit(simple_rnn_multi, multi_step_window)\n",
        "\n",
        "# Evaluación\n",
        "val_multi = simple_rnn_multi.evaluate(multi_step_window.val, return_dict=True)\n",
        "test_multi = simple_rnn_multi.evaluate(multi_step_window.test, return_dict=True)\n",
        "\n",
        "print(\"SimpleRNN (multi-step) Validation:\", val_multi)\n",
        "print(\"SimpleRNN (multi-step) Test:\", test_multi)"
      ]
    },
    {
      "cell_type": "markdown",
      "id": "e08215e4",
      "metadata": {
        "id": "e08215e4"
      },
      "source": [
        "---"
      ]
    },
    {
      "cell_type": "markdown",
      "id": "564d3a83",
      "metadata": {
        "id": "564d3a83"
      },
      "source": [
        "#### **Analisis de resultados**"
      ]
    },
    {
      "cell_type": "markdown",
      "id": "1895264b",
      "metadata": {
        "id": "1895264b"
      },
      "source": [
        "Métricas a evaluar:\n",
        "1. sMAPE\n",
        "2. WAPE"
      ]
    },
    {
      "cell_type": "code",
      "execution_count": 11,
      "id": "6b81e357",
      "metadata": {
        "id": "6b81e357",
        "outputId": "6d0a5fd0-c985-430e-d0b6-175aa6940ec1",
        "colab": {
          "base_uri": "https://localhost:8080/"
        }
      },
      "outputs": [
        {
          "output_type": "stream",
          "name": "stdout",
          "text": [
            "\u001b[1m1/1\u001b[0m \u001b[32m━━━━━━━━━━━━━━━━━━━━\u001b[0m\u001b[37m\u001b[0m \u001b[1m0s\u001b[0m 149ms/step\n",
            "\u001b[1m1/1\u001b[0m \u001b[32m━━━━━━━━━━━━━━━━━━━━\u001b[0m\u001b[37m\u001b[0m \u001b[1m0s\u001b[0m 31ms/step\n",
            "\u001b[1m1/1\u001b[0m \u001b[32m━━━━━━━━━━━━━━━━━━━━\u001b[0m\u001b[37m\u001b[0m \u001b[1m0s\u001b[0m 33ms/step\n",
            "\u001b[1m1/1\u001b[0m \u001b[32m━━━━━━━━━━━━━━━━━━━━\u001b[0m\u001b[37m\u001b[0m \u001b[1m0s\u001b[0m 41ms/step\n",
            "\u001b[1m1/1\u001b[0m \u001b[32m━━━━━━━━━━━━━━━━━━━━\u001b[0m\u001b[37m\u001b[0m \u001b[1m0s\u001b[0m 33ms/step\n",
            "\u001b[1m1/1\u001b[0m \u001b[32m━━━━━━━━━━━━━━━━━━━━\u001b[0m\u001b[37m\u001b[0m \u001b[1m0s\u001b[0m 34ms/step\n",
            "\u001b[1m1/1\u001b[0m \u001b[32m━━━━━━━━━━━━━━━━━━━━\u001b[0m\u001b[37m\u001b[0m \u001b[1m0s\u001b[0m 33ms/step\n",
            "\u001b[1m1/1\u001b[0m \u001b[32m━━━━━━━━━━━━━━━━━━━━\u001b[0m\u001b[37m\u001b[0m \u001b[1m0s\u001b[0m 31ms/step\n",
            "\u001b[1m1/1\u001b[0m \u001b[32m━━━━━━━━━━━━━━━━━━━━\u001b[0m\u001b[37m\u001b[0m \u001b[1m0s\u001b[0m 34ms/step\n",
            "\u001b[1m1/1\u001b[0m \u001b[32m━━━━━━━━━━━━━━━━━━━━\u001b[0m\u001b[37m\u001b[0m \u001b[1m0s\u001b[0m 32ms/step\n",
            "SMAPE: 52.273613\n",
            "WAPE: 25.361681\n"
          ]
        }
      ],
      "source": [
        "# Evaluación con métricas personalizadas en multi-step\n",
        "y_true, y_pred = [], []\n",
        "\n",
        "for x, y in multi_step_window.test.take(10):\n",
        "    preds = simple_rnn_multi.predict(x)\n",
        "    y_true.extend(y.numpy().reshape(-1))\n",
        "    y_pred.extend(preds.reshape(-1))\n",
        "\n",
        "print(\"SMAPE:\", smape(y_true, y_pred))\n",
        "print(\"WAPE:\", wape(y_true, y_pred))"
      ]
    },
    {
      "cell_type": "markdown",
      "id": "45cc6a87",
      "metadata": {
        "id": "45cc6a87"
      },
      "source": [
        "---"
      ]
    }
  ],
  "metadata": {
    "kernelspec": {
      "display_name": "Python 3",
      "language": "python",
      "name": "python3"
    },
    "language_info": {
      "name": "python",
      "version": "3.12.0"
    },
    "colab": {
      "provenance": [],
      "include_colab_link": true
    }
  },
  "nbformat": 4,
  "nbformat_minor": 5
}