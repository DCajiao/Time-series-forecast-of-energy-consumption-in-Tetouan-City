{
 "cells": [
  {
   "cell_type": "markdown",
   "id": "a241516a",
   "metadata": {},
   "source": [
    "### Fase 1: Análisis Exploratorio de datos"
   ]
  },
  {
   "cell_type": "markdown",
   "id": "84b66acb",
   "metadata": {},
   "source": [
    "#### **Elección del Conjunto de datos**"
   ]
  },
  {
   "cell_type": "code",
   "execution_count": null,
   "id": "48071eeb",
   "metadata": {},
   "outputs": [],
   "source": []
  },
  {
   "cell_type": "markdown",
   "id": "2a5878d9",
   "metadata": {},
   "source": [
    "---"
   ]
  },
  {
   "cell_type": "markdown",
   "id": "b85dda6b",
   "metadata": {},
   "source": [
    "#### **Planteamiento de la problemáticas**"
   ]
  },
  {
   "cell_type": "code",
   "execution_count": null,
   "id": "97874192",
   "metadata": {},
   "outputs": [],
   "source": []
  },
  {
   "cell_type": "markdown",
   "id": "e08215e4",
   "metadata": {},
   "source": [
    "---"
   ]
  },
  {
   "cell_type": "markdown",
   "id": "564d3a83",
   "metadata": {},
   "source": [
    "#### **Analisis de la serie de tiempo**"
   ]
  },
  {
   "cell_type": "code",
   "execution_count": null,
   "id": "6b81e357",
   "metadata": {},
   "outputs": [],
   "source": []
  },
  {
   "cell_type": "markdown",
   "id": "45cc6a87",
   "metadata": {},
   "source": [
    "---"
   ]
  },
  {
   "cell_type": "markdown",
   "id": "9f6d6377",
   "metadata": {},
   "source": [
    "#### **Elección de Variables Exógenas**"
   ]
  },
  {
   "cell_type": "code",
   "execution_count": null,
   "id": "d4cb811b",
   "metadata": {},
   "outputs": [],
   "source": []
  },
  {
   "cell_type": "markdown",
   "id": "36b5cad4",
   "metadata": {},
   "source": [
    "---"
   ]
  },
  {
   "cell_type": "markdown",
   "id": "0aff4d82",
   "metadata": {},
   "source": [
    "#### **Elección de Métrica de error**"
   ]
  },
  {
   "cell_type": "markdown",
   "id": "1657168e",
   "metadata": {},
   "source": []
  },
  {
   "cell_type": "markdown",
   "id": "e806ae78",
   "metadata": {},
   "source": [
    "---"
   ]
  }
 ],
 "metadata": {
  "kernelspec": {
   "display_name": "Python 3",
   "language": "python",
   "name": "python3"
  },
  "language_info": {
   "name": "python",
   "version": "3.12.0"
  }
 },
 "nbformat": 4,
 "nbformat_minor": 5
}
