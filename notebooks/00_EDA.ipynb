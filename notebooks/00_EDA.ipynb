{
  "cells": [
    {
      "cell_type": "markdown",
      "metadata": {
        "id": "view-in-github",
        "colab_type": "text"
      },
      "source": [
        "<a href=\"https://colab.research.google.com/github/DCajiao/Time-series-forecast-of-energy-consumption-in-Tetouan-City/blob/main/notebooks/00_EDA.ipynb\" target=\"_parent\"><img src=\"https://colab.research.google.com/assets/colab-badge.svg\" alt=\"Open In Colab\"/></a>"
      ]
    },
    {
      "cell_type": "markdown",
      "id": "a241516a",
      "metadata": {
        "id": "a241516a"
      },
      "source": [
        "### Fase 1: Análisis Exploratorio de datos"
      ]
    },
    {
      "cell_type": "markdown",
      "id": "84b66acb",
      "metadata": {
        "id": "84b66acb"
      },
      "source": [
        "#### **Elección del Conjunto de datos**"
      ]
    },
    {
      "cell_type": "code",
      "execution_count": 1,
      "id": "87b9d2d6",
      "metadata": {
        "id": "87b9d2d6"
      },
      "outputs": [],
      "source": [
        "import requests\n",
        "import pandas as pd\n",
        "\n",
        "import matplotlib.pyplot as plt\n",
        "import matplotlib.dates as mdates\n",
        "\n",
        "from io import BytesIO\n",
        "from statsmodels.tsa.seasonal import seasonal_decompose\n"
      ]
    },
    {
      "cell_type": "code",
      "execution_count": null,
      "id": "5cd30e90",
      "metadata": {
        "id": "5cd30e90"
      },
      "outputs": [],
      "source": [
        "# Importar datos\n",
        "DATA_GITHUB_URL = 'https://github.com/DCajiao/00_data_analytics_error_metrics_for_time_series/blob/main/data/Data%20Morocco.xlsx?raw=true'\n",
        "\n",
        "# Descargar los datos desde github\n",
        "response = requests.get(DATA_GITHUB_URL)\n",
        "\n",
        "# Convertir en un df desde el xlsx de github\n",
        "df = pd.read_excel(BytesIO(response.content), sheet_name='Marrakech', engine='openpyxl')\n",
        "\n",
        "# Formato de columnas\n",
        "df['DateTime'] = pd.to_datetime(df['DateTime'], errors='coerce')\n",
        "df = df.dropna(subset=['DateTime']) # Eliminar filas con DateTime inválido (NaT)"
      ]
    },
    {
      "cell_type": "code",
      "execution_count": null,
      "id": "bf3d4d1c",
      "metadata": {
        "id": "bf3d4d1c"
      },
      "outputs": [],
      "source": [
        "# Análisis de todas las zonas\n",
        "\n",
        "# Configuración común para gráficos\n",
        "params = {\n",
        "    'figure.figsize': (12, 6),\n",
        "    'axes.titlesize': 14,\n",
        "    'axes.labelsize': 12,\n",
        "}\n",
        "plt.rcParams.update(params)\n",
        "\n",
        "# --- Gráfico de ambas zonas ---\n",
        "plt.figure()\n",
        "plt.plot(df['DateTime'], df['zone1'], color='tab:blue', linewidth=1.5, label='Zona 1')\n",
        "plt.plot(df['DateTime'], df['zone2'], color='tab:orange', linewidth=1.5, label='Zona 2')\n",
        "plt.title('Comparación de consumo entre zonas', pad=20)\n",
        "plt.xlabel('Fecha')\n",
        "plt.ylabel('Consumo (Kilowatts)')\n",
        "plt.grid(True, linestyle='--', alpha=0.5)\n",
        "plt.legend()\n",
        "plt.gcf().autofmt_xdate()\n",
        "plt.tight_layout()\n",
        "plt.show()"
      ]
    },
    {
      "cell_type": "code",
      "execution_count": null,
      "id": "dfe4ed07",
      "metadata": {
        "id": "dfe4ed07"
      },
      "outputs": [],
      "source": [
        "# Configuración del Dataset\n",
        "df = df.set_index('DateTime') # Usar la columna DateTime como índice\n",
        "df = df.sort_index() # Ordenar por fecha\n",
        "df = df[~df.index.duplicated(keep='first')] # Conservar el primer registro\n",
        "print(\"Primer timestamp:\", df.index.min())\n",
        "print(\"Último timestamp:\", df.index.max())\n",
        "print(\"Número de observaciones:\", df.shape[0])\n",
        "\n",
        "# Crear un índice regular de 30 minutos\n",
        "index_regular = pd.date_range(start=df.index.min(), end=df.index.max(), freq='30min')\n",
        "\n",
        "# Reindexar para forzar frecuencia fija\n",
        "df_regular = df.reindex(index_regular)\n",
        "\n",
        "# Interpolar valores faltantes (muy común en mediciones reales)\n",
        "df_regular = df_regular.interpolate(method='time')\n",
        "\n",
        "# Confirmar que ya está con frecuencia regular\n",
        "print(\"¿Frecuencia regular?:\", pd.infer_freq(df_regular.index))\n",
        "\n",
        "df = df_regular"
      ]
    },
    {
      "cell_type": "code",
      "execution_count": null,
      "id": "d2f5ace5",
      "metadata": {
        "id": "d2f5ace5"
      },
      "outputs": [],
      "source": [
        "### Paso 1: Descomposición de la serie\n",
        "\n",
        "# Usaremos la función seasonal_decompose de statsmodels, que descompone en:\n",
        "# - Tendencia\n",
        "# - Estacionalidad\n",
        "# - Residuo\n",
        "\n",
        "# Se selecciona la variable que se quiere analizar (ajusta el nombre)\n",
        "serie = df_regular['zone1']\n",
        "\n",
        "# Descomposición estacional\n",
        "resultado = seasonal_decompose(serie, model='aditive', period=48)\n",
        "resultado.plot()\n",
        "plt.suptitle(\"Descomposición estacional diaria (period=48)\", fontsize=16)\n",
        "plt.tight_layout()\n",
        "plt.show()"
      ]
    },
    {
      "cell_type": "markdown",
      "id": "2a5878d9",
      "metadata": {
        "id": "2a5878d9"
      },
      "source": [
        "---"
      ]
    },
    {
      "cell_type": "markdown",
      "id": "b85dda6b",
      "metadata": {
        "id": "b85dda6b"
      },
      "source": [
        "#### **Planteamiento de la problemáticas**"
      ]
    },
    {
      "cell_type": "code",
      "execution_count": null,
      "id": "97874192",
      "metadata": {
        "id": "97874192"
      },
      "outputs": [],
      "source": []
    },
    {
      "cell_type": "markdown",
      "id": "e08215e4",
      "metadata": {
        "id": "e08215e4"
      },
      "source": [
        "---"
      ]
    },
    {
      "cell_type": "markdown",
      "id": "564d3a83",
      "metadata": {
        "id": "564d3a83"
      },
      "source": [
        "#### **Analisis de la serie de tiempo**"
      ]
    },
    {
      "cell_type": "code",
      "execution_count": null,
      "id": "6b81e357",
      "metadata": {
        "id": "6b81e357"
      },
      "outputs": [],
      "source": []
    },
    {
      "cell_type": "markdown",
      "id": "45cc6a87",
      "metadata": {
        "id": "45cc6a87"
      },
      "source": [
        "---"
      ]
    },
    {
      "cell_type": "markdown",
      "id": "9f6d6377",
      "metadata": {
        "id": "9f6d6377"
      },
      "source": [
        "#### **Elección de Variables Exógenas**"
      ]
    },
    {
      "cell_type": "code",
      "execution_count": null,
      "id": "d4cb811b",
      "metadata": {
        "id": "d4cb811b"
      },
      "outputs": [],
      "source": []
    },
    {
      "cell_type": "markdown",
      "id": "36b5cad4",
      "metadata": {
        "id": "36b5cad4"
      },
      "source": [
        "---"
      ]
    },
    {
      "cell_type": "markdown",
      "id": "0aff4d82",
      "metadata": {
        "id": "0aff4d82"
      },
      "source": [
        "#### **Elección de Métrica de error**"
      ]
    },
    {
      "cell_type": "markdown",
      "id": "1657168e",
      "metadata": {
        "id": "1657168e"
      },
      "source": []
    },
    {
      "cell_type": "markdown",
      "id": "e806ae78",
      "metadata": {
        "id": "e806ae78"
      },
      "source": [
        "---"
      ]
    }
  ],
  "metadata": {
    "kernelspec": {
      "display_name": "Python 3",
      "language": "python",
      "name": "python3"
    },
    "language_info": {
      "codemirror_mode": {
        "name": "ipython",
        "version": 3
      },
      "file_extension": ".py",
      "mimetype": "text/x-python",
      "name": "python",
      "nbconvert_exporter": "python",
      "pygments_lexer": "ipython3",
      "version": "3.12.1"
    },
    "colab": {
      "provenance": [],
      "include_colab_link": true
    }
  },
  "nbformat": 4,
  "nbformat_minor": 5
}