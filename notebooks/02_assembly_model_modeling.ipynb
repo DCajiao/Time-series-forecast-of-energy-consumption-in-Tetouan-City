{
  "cells": [
    {
      "cell_type": "markdown",
      "metadata": {
        "id": "view-in-github",
        "colab_type": "text"
      },
      "source": [
        "<a href=\"https://colab.research.google.com/github/DCajiao/Time-series-forecast-of-energy-consumption-in-Tetouan-City/blob/main/notebooks/02_assembly_model_modeling.ipynb\" target=\"_parent\"><img src=\"https://colab.research.google.com/assets/colab-badge.svg\" alt=\"Open In Colab\"/></a>"
      ]
    },
    {
      "cell_type": "markdown",
      "id": "a241516a",
      "metadata": {
        "id": "a241516a"
      },
      "source": [
        "### Entrenamiento, Predicción y Evaluación de los modelos de ensamble"
      ]
    },
    {
      "cell_type": "markdown",
      "source": [
        "#### Importación de Datos"
      ],
      "metadata": {
        "id": "HsBtf_FYOJGz"
      },
      "id": "HsBtf_FYOJGz"
    },
    {
      "cell_type": "code",
      "source": [
        "import requests\n",
        "import pandas as pd\n",
        "import numpy as np\n",
        "import sys, os, math, typing as t\n",
        "\n",
        "import seaborn as sns\n",
        "import matplotlib.pyplot as plt\n",
        "import matplotlib.dates as mdates\n",
        "\n",
        "from io import BytesIO\n",
        "from dataclasses import dataclass\n",
        "from sklearn.model_selection import train_test_split\n",
        "from sklearn.preprocessing import StandardScaler\n",
        "from sklearn.ensemble import RandomForestRegressor\n",
        "from sklearn.metrics import mean_absolute_error\n",
        "from datetime import timedelta\n",
        "\n",
        "plt.rcParams.update({\n",
        "    \"figure.figsize\": (12, 5),\n",
        "    \"axes.grid\": True\n",
        "})"
      ],
      "metadata": {
        "id": "foFifrFJOOul"
      },
      "id": "foFifrFJOOul",
      "execution_count": 17,
      "outputs": []
    },
    {
      "cell_type": "code",
      "source": [
        "# Importar datos\n",
        "DATA_GITHUB_URL = 'https://raw.githubusercontent.com/DCajiao/Time-series-forecast-of-energy-consumption-in-Tetouan-City/refs/heads/main/data/zone1_power_consumption_of_tetouan_city.csv'\n",
        "\n",
        "# Descargar los datos desde github\n",
        "response = requests.get(DATA_GITHUB_URL)\n",
        "\n",
        "# Convertir en un df desde el xlsx de github\n",
        "df = pd.read_csv(BytesIO(response.content), sep=',')\n",
        "\n",
        "df[\"datetime\"] = pd.to_datetime(df[\"datetime\"], errors=\"coerce\")\n",
        "df = df.set_index(\"datetime\")\n",
        "\n",
        "# Validaciones mínimas\n",
        "expected_cols = {\"temperature\",\"humidity\",\"general_diffuse_flows\",\"zone_1\"}\n",
        "missing = expected_cols - set(df.columns)\n",
        "if missing:\n",
        "    raise ValueError(f\"Faltan columnas en el dataset: {missing}. \"\n",
        "                     f\"Columnas disponibles: {df.columns.tolist()}\")\n",
        "\n",
        "print(\"\\nFrecuencia aproximada:\", (df.index.to_series().diff().mode().iloc[0]))\n",
        "print(\"Filas totales:\", len(df))"
      ],
      "metadata": {
        "id": "tuyvWWEyOSQl",
        "outputId": "58766f6d-30fb-46f9-fa6a-d08192a55b1a",
        "colab": {
          "base_uri": "https://localhost:8080/"
        }
      },
      "id": "tuyvWWEyOSQl",
      "execution_count": 18,
      "outputs": [
        {
          "output_type": "stream",
          "name": "stdout",
          "text": [
            "\n",
            "Frecuencia aproximada: 0 days 00:10:00\n",
            "Filas totales: 52416\n"
          ]
        }
      ]
    },
    {
      "cell_type": "markdown",
      "source": [
        "#### Definición de Funciones y Partición de los datos"
      ],
      "metadata": {
        "id": "w5fcTKW-Pt2m"
      },
      "id": "w5fcTKW-Pt2m"
    },
    {
      "cell_type": "code",
      "execution_count": 19,
      "id": "48071eeb",
      "metadata": {
        "id": "48071eeb"
      },
      "outputs": [],
      "source": [
        "from typing import Optional, Dict\n",
        "\n",
        "def temporal_split(df: pd.DataFrame, train_size=0.7, val_size=0.2):\n",
        "    \"\"\"Split temporal 70/20/10 por defecto.\"\"\"\n",
        "    n = len(df)\n",
        "    n_train = int(n * train_size)\n",
        "    n_val = int(n * val_size)\n",
        "    train = df.iloc[:n_train]\n",
        "    val = df.iloc[n_train:n_train+n_val]\n",
        "    test = df.iloc[n_train+n_val:]\n",
        "    return train, val, test\n",
        "\n",
        "def make_windows(\n",
        "    data: pd.DataFrame,\n",
        "    target_col: str,\n",
        "    feature_cols: t.List[str],\n",
        "    history: int = 1008,   # 7 días de 10-min\n",
        "    target_shift: int = 1   # 1 paso adelante\n",
        "):\n",
        "    \"\"\"Crea X, y con ventana deslizante. X tiene forma (N, history, F).\n",
        "    Para modelos tipo sklearn, se devuelve además X2 (aplanado).\"\"\"\n",
        "    feats = data[feature_cols].values\n",
        "    target = data[target_col].values\n",
        "    X, y = [], []\n",
        "    for i in range(len(data) - history - target_shift + 1):\n",
        "        X.append(feats[i:i+history])\n",
        "        y.append(target[i+history+target_shift-1])\n",
        "    X = np.array(X)\n",
        "    y = np.array(y)\n",
        "    # Aplanado para modelos de tabular (árboles, etc.)\n",
        "    ns, h, f = X.shape\n",
        "    X2 = X.reshape((ns, h*f))\n",
        "    return X, X2, y\n",
        "\n",
        "def smape(y_true, y_pred, eps: float = 1e-8):\n",
        "    y_true = np.array(y_true, dtype=float)\n",
        "    y_pred = np.array(y_pred, dtype=float)\n",
        "    denom = (np.abs(y_true) + np.abs(y_pred)) + eps\n",
        "    return np.mean(2.0 * np.abs(y_pred - y_true) / denom) * 100.0\n",
        "\n",
        "def wape(y_true, y_pred, eps: float = 1e-8):\n",
        "    y_true = np.array(y_true, dtype=float)\n",
        "    y_pred = np.array(y_pred, dtype=float)\n",
        "    return (np.sum(np.abs(y_pred - y_true)) / (np.sum(np.abs(y_true)) + eps)) * 100.0\n",
        "\n",
        "@dataclass\n",
        "class Scalers:\n",
        "    X: Optional[StandardScaler] = None\n",
        "    y: Optional[StandardScaler] = None\n",
        "\n",
        "def fit_scalers(train_df: pd.DataFrame, feature_cols: t.List[str], target_col: str) -> Scalers:\n",
        "    sx = StandardScaler()\n",
        "    sy = StandardScaler()\n",
        "    sx.fit(train_df[feature_cols])\n",
        "    sy.fit(train_df[[target_col]])\n",
        "    return Scalers(X=sx, y=sy)\n",
        "\n",
        "def apply_scalers(df: pd.DataFrame, scalers: Scalers, feature_cols: t.List[str], target_col: str):\n",
        "    out = df.copy()\n",
        "    out[feature_cols] = scalers.X.transform(out[feature_cols])\n",
        "    out[target_col]  = scalers.y.transform(out[[target_col]])\n",
        "    return out\n",
        "\n",
        "def inverse_target(y: np.ndarray, scalers: Scalers) -> np.ndarray:\n",
        "    return scalers.y.inverse_transform(y.reshape(-1,1)).ravel()\n",
        "\n",
        "def plot_segment(idx, y_true, y_pred, title=\"Predicción (tramo)\", target_name=\"target\"):\n",
        "    plt.figure(figsize=(12,4))\n",
        "    plt.plot(idx, y_true, label=\"Real\", linewidth=2)\n",
        "    plt.plot(idx, y_pred, label=\"Pred\", linewidth=2)\n",
        "    plt.title(title)\n",
        "    plt.xlabel(\"Tiempo\"); plt.ylabel(target_name); plt.legend(); plt.tight_layout(); plt.show()\n"
      ]
    },
    {
      "cell_type": "code",
      "source": [
        "TARGET_COL = \"zone_1\"  # consumo a pronosticar\n",
        "EXOG_COLS = [\"temperature\", \"humidity\", \"general_diffuse_flows\"]  # exógenas priorizadas\n",
        "\n",
        "# Ordenar columnas por claridad (target al final)\n",
        "cols = EXOG_COLS + [TARGET_COL]\n",
        "df2 = df[cols].copy().astype(\"float32\")\n",
        "\n",
        "# -----------------------------\n",
        "# Splits temporales base (para val/test)\n",
        "# -----------------------------\n",
        "train_df_full, val_df, test_df = temporal_split(df2, train_size=0.7, val_size=0.2)\n",
        "print({s: len(x) for s,x in [('train_full',train_df_full),('val',val_df),('test',test_df)]})\n",
        "\n",
        "# -----------------------------\n",
        "# ⬅️ Entrenar con los últimos 45 días\n",
        "# -----------------------------\n",
        "POINTS_PER_DAY = 24 * 6           # 10 min = 6 puntos por hora = 144 por día\n",
        "TRAIN_DAYS = 45\n",
        "WINDOW_TRAIN_POINTS = TRAIN_DAYS * POINTS_PER_DAY  # 45 * 144 = 6480\n",
        "\n",
        "HISTORY_WINDOW = 7 * POINTS_PER_DAY   # 7 días = 1008 pasos\n",
        "SHIFT_ONE_STEP = 1                    # +10 min\n",
        "\n",
        "# Tomamos exactamente los últimos 45 días como training\n",
        "train_df = train_df_full.tail(WINDOW_TRAIN_POINTS)\n",
        "\n",
        "print(\n",
        "    \"train_df (últimos 45 días) =\",\n",
        "    train_df.index.min(), \"→\", train_df.index.max(),\n",
        "    \"| filas:\", len(train_df)\n",
        ")\n",
        "\n",
        "# -----------------------------\n",
        "# Escalado Z-score (stats SOLO del train de 45 días)\n",
        "# -----------------------------\n",
        "scalers = fit_scalers(train_df, EXOG_COLS, TARGET_COL)\n",
        "train_n = apply_scalers(train_df, scalers, EXOG_COLS, TARGET_COL)\n",
        "val_n   = apply_scalers(val_df,   scalers, EXOG_COLS, TARGET_COL)\n",
        "test_n  = apply_scalers(test_df,  scalers, EXOG_COLS, TARGET_COL)\n",
        "\n",
        "# -----------------------------\n",
        "# Ventanas one-step (history=1008, shift=1)\n",
        "# -----------------------------\n",
        "Xtr, Xtr2, ytr = make_windows(\n",
        "    train_n, TARGET_COL, EXOG_COLS + [TARGET_COL],\n",
        "    history=HISTORY_WINDOW, target_shift=SHIFT_ONE_STEP\n",
        ")\n",
        "Xva, Xva2, yva = make_windows(\n",
        "    val_n, TARGET_COL, EXOG_COLS + [TARGET_COL],\n",
        "    history=HISTORY_WINDOW, target_shift=SHIFT_ONE_STEP\n",
        ")\n",
        "Xte, Xte2, yte = make_windows(\n",
        "    test_n, TARGET_COL, EXOG_COLS + [TARGET_COL],\n",
        "    history=HISTORY_WINDOW, target_shift=SHIFT_ONE_STEP\n",
        ")\n",
        "\n",
        "print(\"Shapes →\",\n",
        "      \"Xtr2:\", Xtr2.shape, \"ytr:\", ytr.shape, \"|\",\n",
        "      \"Xva2:\", Xva2.shape, \"yva:\", yva.shape, \"|\",\n",
        "      \"Xte2:\", Xte2.shape, \"yte:\", yte.shape)\n",
        "\n",
        "# Validación rápida\n",
        "assert Xtr2.shape[0] >= 1, \"No hay suficientes filas en los últimos 45 días para formar al menos 1 ventana.\"\n"
      ],
      "metadata": {
        "id": "PTNXt7nIP5Fn",
        "outputId": "f4015159-b03b-4b16-c910-c67e96e2494c",
        "colab": {
          "base_uri": "https://localhost:8080/"
        }
      },
      "id": "PTNXt7nIP5Fn",
      "execution_count": 20,
      "outputs": [
        {
          "output_type": "stream",
          "name": "stdout",
          "text": [
            "{'train_full': 36691, 'val': 10483, 'test': 5242}\n",
            "train_df (últimos 45 días) = 2017-07-29 19:10:00 → 2017-09-12 19:00:00 | filas: 6480\n",
            "Shapes → Xtr2: (5472, 4032) ytr: (5472,) | Xva2: (9475, 4032) yva: (9475,) | Xte2: (4234, 4032) yte: (4234,)\n"
          ]
        }
      ]
    },
    {
      "cell_type": "markdown",
      "source": [
        "#### Modelo Bagging: Random Forest"
      ],
      "metadata": {
        "id": "CGaO6s_1QxEd"
      },
      "id": "CGaO6s_1QxEd"
    },
    {
      "cell_type": "markdown",
      "source": [
        "##### Entrenamiento"
      ],
      "metadata": {
        "id": "ncYu6GHSQ6ZV"
      },
      "id": "ncYu6GHSQ6ZV"
    },
    {
      "cell_type": "code",
      "source": [
        "rf_model = RandomForestRegressor(\n",
        "    n_estimators=200,\n",
        "    max_depth=14,\n",
        "    max_features=\"sqrt\",\n",
        "    min_samples_leaf=8,\n",
        "    bootstrap=True,\n",
        "    n_jobs=-1, random_state=42\n",
        ")\n",
        "\n",
        "rf_model.fit(Xtr2, ytr)"
      ],
      "metadata": {
        "id": "3F5b9hrFQOmB",
        "outputId": "1eeb6a6d-c83f-4e5c-c9c0-bf7b31b7bda8",
        "colab": {
          "base_uri": "https://localhost:8080/",
          "height": 97
        }
      },
      "id": "3F5b9hrFQOmB",
      "execution_count": 21,
      "outputs": [
        {
          "output_type": "execute_result",
          "data": {
            "text/plain": [
              "RandomForestRegressor(max_depth=14, max_features='sqrt', min_samples_leaf=8,\n",
              "                      n_estimators=200, n_jobs=-1, random_state=42)"
            ],
            "text/html": [
              "<style>#sk-container-id-1 {\n",
              "  /* Definition of color scheme common for light and dark mode */\n",
              "  --sklearn-color-text: #000;\n",
              "  --sklearn-color-text-muted: #666;\n",
              "  --sklearn-color-line: gray;\n",
              "  /* Definition of color scheme for unfitted estimators */\n",
              "  --sklearn-color-unfitted-level-0: #fff5e6;\n",
              "  --sklearn-color-unfitted-level-1: #f6e4d2;\n",
              "  --sklearn-color-unfitted-level-2: #ffe0b3;\n",
              "  --sklearn-color-unfitted-level-3: chocolate;\n",
              "  /* Definition of color scheme for fitted estimators */\n",
              "  --sklearn-color-fitted-level-0: #f0f8ff;\n",
              "  --sklearn-color-fitted-level-1: #d4ebff;\n",
              "  --sklearn-color-fitted-level-2: #b3dbfd;\n",
              "  --sklearn-color-fitted-level-3: cornflowerblue;\n",
              "\n",
              "  /* Specific color for light theme */\n",
              "  --sklearn-color-text-on-default-background: var(--sg-text-color, var(--theme-code-foreground, var(--jp-content-font-color1, black)));\n",
              "  --sklearn-color-background: var(--sg-background-color, var(--theme-background, var(--jp-layout-color0, white)));\n",
              "  --sklearn-color-border-box: var(--sg-text-color, var(--theme-code-foreground, var(--jp-content-font-color1, black)));\n",
              "  --sklearn-color-icon: #696969;\n",
              "\n",
              "  @media (prefers-color-scheme: dark) {\n",
              "    /* Redefinition of color scheme for dark theme */\n",
              "    --sklearn-color-text-on-default-background: var(--sg-text-color, var(--theme-code-foreground, var(--jp-content-font-color1, white)));\n",
              "    --sklearn-color-background: var(--sg-background-color, var(--theme-background, var(--jp-layout-color0, #111)));\n",
              "    --sklearn-color-border-box: var(--sg-text-color, var(--theme-code-foreground, var(--jp-content-font-color1, white)));\n",
              "    --sklearn-color-icon: #878787;\n",
              "  }\n",
              "}\n",
              "\n",
              "#sk-container-id-1 {\n",
              "  color: var(--sklearn-color-text);\n",
              "}\n",
              "\n",
              "#sk-container-id-1 pre {\n",
              "  padding: 0;\n",
              "}\n",
              "\n",
              "#sk-container-id-1 input.sk-hidden--visually {\n",
              "  border: 0;\n",
              "  clip: rect(1px 1px 1px 1px);\n",
              "  clip: rect(1px, 1px, 1px, 1px);\n",
              "  height: 1px;\n",
              "  margin: -1px;\n",
              "  overflow: hidden;\n",
              "  padding: 0;\n",
              "  position: absolute;\n",
              "  width: 1px;\n",
              "}\n",
              "\n",
              "#sk-container-id-1 div.sk-dashed-wrapped {\n",
              "  border: 1px dashed var(--sklearn-color-line);\n",
              "  margin: 0 0.4em 0.5em 0.4em;\n",
              "  box-sizing: border-box;\n",
              "  padding-bottom: 0.4em;\n",
              "  background-color: var(--sklearn-color-background);\n",
              "}\n",
              "\n",
              "#sk-container-id-1 div.sk-container {\n",
              "  /* jupyter's `normalize.less` sets `[hidden] { display: none; }`\n",
              "     but bootstrap.min.css set `[hidden] { display: none !important; }`\n",
              "     so we also need the `!important` here to be able to override the\n",
              "     default hidden behavior on the sphinx rendered scikit-learn.org.\n",
              "     See: https://github.com/scikit-learn/scikit-learn/issues/21755 */\n",
              "  display: inline-block !important;\n",
              "  position: relative;\n",
              "}\n",
              "\n",
              "#sk-container-id-1 div.sk-text-repr-fallback {\n",
              "  display: none;\n",
              "}\n",
              "\n",
              "div.sk-parallel-item,\n",
              "div.sk-serial,\n",
              "div.sk-item {\n",
              "  /* draw centered vertical line to link estimators */\n",
              "  background-image: linear-gradient(var(--sklearn-color-text-on-default-background), var(--sklearn-color-text-on-default-background));\n",
              "  background-size: 2px 100%;\n",
              "  background-repeat: no-repeat;\n",
              "  background-position: center center;\n",
              "}\n",
              "\n",
              "/* Parallel-specific style estimator block */\n",
              "\n",
              "#sk-container-id-1 div.sk-parallel-item::after {\n",
              "  content: \"\";\n",
              "  width: 100%;\n",
              "  border-bottom: 2px solid var(--sklearn-color-text-on-default-background);\n",
              "  flex-grow: 1;\n",
              "}\n",
              "\n",
              "#sk-container-id-1 div.sk-parallel {\n",
              "  display: flex;\n",
              "  align-items: stretch;\n",
              "  justify-content: center;\n",
              "  background-color: var(--sklearn-color-background);\n",
              "  position: relative;\n",
              "}\n",
              "\n",
              "#sk-container-id-1 div.sk-parallel-item {\n",
              "  display: flex;\n",
              "  flex-direction: column;\n",
              "}\n",
              "\n",
              "#sk-container-id-1 div.sk-parallel-item:first-child::after {\n",
              "  align-self: flex-end;\n",
              "  width: 50%;\n",
              "}\n",
              "\n",
              "#sk-container-id-1 div.sk-parallel-item:last-child::after {\n",
              "  align-self: flex-start;\n",
              "  width: 50%;\n",
              "}\n",
              "\n",
              "#sk-container-id-1 div.sk-parallel-item:only-child::after {\n",
              "  width: 0;\n",
              "}\n",
              "\n",
              "/* Serial-specific style estimator block */\n",
              "\n",
              "#sk-container-id-1 div.sk-serial {\n",
              "  display: flex;\n",
              "  flex-direction: column;\n",
              "  align-items: center;\n",
              "  background-color: var(--sklearn-color-background);\n",
              "  padding-right: 1em;\n",
              "  padding-left: 1em;\n",
              "}\n",
              "\n",
              "\n",
              "/* Toggleable style: style used for estimator/Pipeline/ColumnTransformer box that is\n",
              "clickable and can be expanded/collapsed.\n",
              "- Pipeline and ColumnTransformer use this feature and define the default style\n",
              "- Estimators will overwrite some part of the style using the `sk-estimator` class\n",
              "*/\n",
              "\n",
              "/* Pipeline and ColumnTransformer style (default) */\n",
              "\n",
              "#sk-container-id-1 div.sk-toggleable {\n",
              "  /* Default theme specific background. It is overwritten whether we have a\n",
              "  specific estimator or a Pipeline/ColumnTransformer */\n",
              "  background-color: var(--sklearn-color-background);\n",
              "}\n",
              "\n",
              "/* Toggleable label */\n",
              "#sk-container-id-1 label.sk-toggleable__label {\n",
              "  cursor: pointer;\n",
              "  display: flex;\n",
              "  width: 100%;\n",
              "  margin-bottom: 0;\n",
              "  padding: 0.5em;\n",
              "  box-sizing: border-box;\n",
              "  text-align: center;\n",
              "  align-items: start;\n",
              "  justify-content: space-between;\n",
              "  gap: 0.5em;\n",
              "}\n",
              "\n",
              "#sk-container-id-1 label.sk-toggleable__label .caption {\n",
              "  font-size: 0.6rem;\n",
              "  font-weight: lighter;\n",
              "  color: var(--sklearn-color-text-muted);\n",
              "}\n",
              "\n",
              "#sk-container-id-1 label.sk-toggleable__label-arrow:before {\n",
              "  /* Arrow on the left of the label */\n",
              "  content: \"▸\";\n",
              "  float: left;\n",
              "  margin-right: 0.25em;\n",
              "  color: var(--sklearn-color-icon);\n",
              "}\n",
              "\n",
              "#sk-container-id-1 label.sk-toggleable__label-arrow:hover:before {\n",
              "  color: var(--sklearn-color-text);\n",
              "}\n",
              "\n",
              "/* Toggleable content - dropdown */\n",
              "\n",
              "#sk-container-id-1 div.sk-toggleable__content {\n",
              "  max-height: 0;\n",
              "  max-width: 0;\n",
              "  overflow: hidden;\n",
              "  text-align: left;\n",
              "  /* unfitted */\n",
              "  background-color: var(--sklearn-color-unfitted-level-0);\n",
              "}\n",
              "\n",
              "#sk-container-id-1 div.sk-toggleable__content.fitted {\n",
              "  /* fitted */\n",
              "  background-color: var(--sklearn-color-fitted-level-0);\n",
              "}\n",
              "\n",
              "#sk-container-id-1 div.sk-toggleable__content pre {\n",
              "  margin: 0.2em;\n",
              "  border-radius: 0.25em;\n",
              "  color: var(--sklearn-color-text);\n",
              "  /* unfitted */\n",
              "  background-color: var(--sklearn-color-unfitted-level-0);\n",
              "}\n",
              "\n",
              "#sk-container-id-1 div.sk-toggleable__content.fitted pre {\n",
              "  /* unfitted */\n",
              "  background-color: var(--sklearn-color-fitted-level-0);\n",
              "}\n",
              "\n",
              "#sk-container-id-1 input.sk-toggleable__control:checked~div.sk-toggleable__content {\n",
              "  /* Expand drop-down */\n",
              "  max-height: 200px;\n",
              "  max-width: 100%;\n",
              "  overflow: auto;\n",
              "}\n",
              "\n",
              "#sk-container-id-1 input.sk-toggleable__control:checked~label.sk-toggleable__label-arrow:before {\n",
              "  content: \"▾\";\n",
              "}\n",
              "\n",
              "/* Pipeline/ColumnTransformer-specific style */\n",
              "\n",
              "#sk-container-id-1 div.sk-label input.sk-toggleable__control:checked~label.sk-toggleable__label {\n",
              "  color: var(--sklearn-color-text);\n",
              "  background-color: var(--sklearn-color-unfitted-level-2);\n",
              "}\n",
              "\n",
              "#sk-container-id-1 div.sk-label.fitted input.sk-toggleable__control:checked~label.sk-toggleable__label {\n",
              "  background-color: var(--sklearn-color-fitted-level-2);\n",
              "}\n",
              "\n",
              "/* Estimator-specific style */\n",
              "\n",
              "/* Colorize estimator box */\n",
              "#sk-container-id-1 div.sk-estimator input.sk-toggleable__control:checked~label.sk-toggleable__label {\n",
              "  /* unfitted */\n",
              "  background-color: var(--sklearn-color-unfitted-level-2);\n",
              "}\n",
              "\n",
              "#sk-container-id-1 div.sk-estimator.fitted input.sk-toggleable__control:checked~label.sk-toggleable__label {\n",
              "  /* fitted */\n",
              "  background-color: var(--sklearn-color-fitted-level-2);\n",
              "}\n",
              "\n",
              "#sk-container-id-1 div.sk-label label.sk-toggleable__label,\n",
              "#sk-container-id-1 div.sk-label label {\n",
              "  /* The background is the default theme color */\n",
              "  color: var(--sklearn-color-text-on-default-background);\n",
              "}\n",
              "\n",
              "/* On hover, darken the color of the background */\n",
              "#sk-container-id-1 div.sk-label:hover label.sk-toggleable__label {\n",
              "  color: var(--sklearn-color-text);\n",
              "  background-color: var(--sklearn-color-unfitted-level-2);\n",
              "}\n",
              "\n",
              "/* Label box, darken color on hover, fitted */\n",
              "#sk-container-id-1 div.sk-label.fitted:hover label.sk-toggleable__label.fitted {\n",
              "  color: var(--sklearn-color-text);\n",
              "  background-color: var(--sklearn-color-fitted-level-2);\n",
              "}\n",
              "\n",
              "/* Estimator label */\n",
              "\n",
              "#sk-container-id-1 div.sk-label label {\n",
              "  font-family: monospace;\n",
              "  font-weight: bold;\n",
              "  display: inline-block;\n",
              "  line-height: 1.2em;\n",
              "}\n",
              "\n",
              "#sk-container-id-1 div.sk-label-container {\n",
              "  text-align: center;\n",
              "}\n",
              "\n",
              "/* Estimator-specific */\n",
              "#sk-container-id-1 div.sk-estimator {\n",
              "  font-family: monospace;\n",
              "  border: 1px dotted var(--sklearn-color-border-box);\n",
              "  border-radius: 0.25em;\n",
              "  box-sizing: border-box;\n",
              "  margin-bottom: 0.5em;\n",
              "  /* unfitted */\n",
              "  background-color: var(--sklearn-color-unfitted-level-0);\n",
              "}\n",
              "\n",
              "#sk-container-id-1 div.sk-estimator.fitted {\n",
              "  /* fitted */\n",
              "  background-color: var(--sklearn-color-fitted-level-0);\n",
              "}\n",
              "\n",
              "/* on hover */\n",
              "#sk-container-id-1 div.sk-estimator:hover {\n",
              "  /* unfitted */\n",
              "  background-color: var(--sklearn-color-unfitted-level-2);\n",
              "}\n",
              "\n",
              "#sk-container-id-1 div.sk-estimator.fitted:hover {\n",
              "  /* fitted */\n",
              "  background-color: var(--sklearn-color-fitted-level-2);\n",
              "}\n",
              "\n",
              "/* Specification for estimator info (e.g. \"i\" and \"?\") */\n",
              "\n",
              "/* Common style for \"i\" and \"?\" */\n",
              "\n",
              ".sk-estimator-doc-link,\n",
              "a:link.sk-estimator-doc-link,\n",
              "a:visited.sk-estimator-doc-link {\n",
              "  float: right;\n",
              "  font-size: smaller;\n",
              "  line-height: 1em;\n",
              "  font-family: monospace;\n",
              "  background-color: var(--sklearn-color-background);\n",
              "  border-radius: 1em;\n",
              "  height: 1em;\n",
              "  width: 1em;\n",
              "  text-decoration: none !important;\n",
              "  margin-left: 0.5em;\n",
              "  text-align: center;\n",
              "  /* unfitted */\n",
              "  border: var(--sklearn-color-unfitted-level-1) 1pt solid;\n",
              "  color: var(--sklearn-color-unfitted-level-1);\n",
              "}\n",
              "\n",
              ".sk-estimator-doc-link.fitted,\n",
              "a:link.sk-estimator-doc-link.fitted,\n",
              "a:visited.sk-estimator-doc-link.fitted {\n",
              "  /* fitted */\n",
              "  border: var(--sklearn-color-fitted-level-1) 1pt solid;\n",
              "  color: var(--sklearn-color-fitted-level-1);\n",
              "}\n",
              "\n",
              "/* On hover */\n",
              "div.sk-estimator:hover .sk-estimator-doc-link:hover,\n",
              ".sk-estimator-doc-link:hover,\n",
              "div.sk-label-container:hover .sk-estimator-doc-link:hover,\n",
              ".sk-estimator-doc-link:hover {\n",
              "  /* unfitted */\n",
              "  background-color: var(--sklearn-color-unfitted-level-3);\n",
              "  color: var(--sklearn-color-background);\n",
              "  text-decoration: none;\n",
              "}\n",
              "\n",
              "div.sk-estimator.fitted:hover .sk-estimator-doc-link.fitted:hover,\n",
              ".sk-estimator-doc-link.fitted:hover,\n",
              "div.sk-label-container:hover .sk-estimator-doc-link.fitted:hover,\n",
              ".sk-estimator-doc-link.fitted:hover {\n",
              "  /* fitted */\n",
              "  background-color: var(--sklearn-color-fitted-level-3);\n",
              "  color: var(--sklearn-color-background);\n",
              "  text-decoration: none;\n",
              "}\n",
              "\n",
              "/* Span, style for the box shown on hovering the info icon */\n",
              ".sk-estimator-doc-link span {\n",
              "  display: none;\n",
              "  z-index: 9999;\n",
              "  position: relative;\n",
              "  font-weight: normal;\n",
              "  right: .2ex;\n",
              "  padding: .5ex;\n",
              "  margin: .5ex;\n",
              "  width: min-content;\n",
              "  min-width: 20ex;\n",
              "  max-width: 50ex;\n",
              "  color: var(--sklearn-color-text);\n",
              "  box-shadow: 2pt 2pt 4pt #999;\n",
              "  /* unfitted */\n",
              "  background: var(--sklearn-color-unfitted-level-0);\n",
              "  border: .5pt solid var(--sklearn-color-unfitted-level-3);\n",
              "}\n",
              "\n",
              ".sk-estimator-doc-link.fitted span {\n",
              "  /* fitted */\n",
              "  background: var(--sklearn-color-fitted-level-0);\n",
              "  border: var(--sklearn-color-fitted-level-3);\n",
              "}\n",
              "\n",
              ".sk-estimator-doc-link:hover span {\n",
              "  display: block;\n",
              "}\n",
              "\n",
              "/* \"?\"-specific style due to the `<a>` HTML tag */\n",
              "\n",
              "#sk-container-id-1 a.estimator_doc_link {\n",
              "  float: right;\n",
              "  font-size: 1rem;\n",
              "  line-height: 1em;\n",
              "  font-family: monospace;\n",
              "  background-color: var(--sklearn-color-background);\n",
              "  border-radius: 1rem;\n",
              "  height: 1rem;\n",
              "  width: 1rem;\n",
              "  text-decoration: none;\n",
              "  /* unfitted */\n",
              "  color: var(--sklearn-color-unfitted-level-1);\n",
              "  border: var(--sklearn-color-unfitted-level-1) 1pt solid;\n",
              "}\n",
              "\n",
              "#sk-container-id-1 a.estimator_doc_link.fitted {\n",
              "  /* fitted */\n",
              "  border: var(--sklearn-color-fitted-level-1) 1pt solid;\n",
              "  color: var(--sklearn-color-fitted-level-1);\n",
              "}\n",
              "\n",
              "/* On hover */\n",
              "#sk-container-id-1 a.estimator_doc_link:hover {\n",
              "  /* unfitted */\n",
              "  background-color: var(--sklearn-color-unfitted-level-3);\n",
              "  color: var(--sklearn-color-background);\n",
              "  text-decoration: none;\n",
              "}\n",
              "\n",
              "#sk-container-id-1 a.estimator_doc_link.fitted:hover {\n",
              "  /* fitted */\n",
              "  background-color: var(--sklearn-color-fitted-level-3);\n",
              "}\n",
              "</style><div id=\"sk-container-id-1\" class=\"sk-top-container\"><div class=\"sk-text-repr-fallback\"><pre>RandomForestRegressor(max_depth=14, max_features=&#x27;sqrt&#x27;, min_samples_leaf=8,\n",
              "                      n_estimators=200, n_jobs=-1, random_state=42)</pre><b>In a Jupyter environment, please rerun this cell to show the HTML representation or trust the notebook. <br />On GitHub, the HTML representation is unable to render, please try loading this page with nbviewer.org.</b></div><div class=\"sk-container\" hidden><div class=\"sk-item\"><div class=\"sk-estimator fitted sk-toggleable\"><input class=\"sk-toggleable__control sk-hidden--visually\" id=\"sk-estimator-id-1\" type=\"checkbox\" checked><label for=\"sk-estimator-id-1\" class=\"sk-toggleable__label fitted sk-toggleable__label-arrow\"><div><div>RandomForestRegressor</div></div><div><a class=\"sk-estimator-doc-link fitted\" rel=\"noreferrer\" target=\"_blank\" href=\"https://scikit-learn.org/1.6/modules/generated/sklearn.ensemble.RandomForestRegressor.html\">?<span>Documentation for RandomForestRegressor</span></a><span class=\"sk-estimator-doc-link fitted\">i<span>Fitted</span></span></div></label><div class=\"sk-toggleable__content fitted\"><pre>RandomForestRegressor(max_depth=14, max_features=&#x27;sqrt&#x27;, min_samples_leaf=8,\n",
              "                      n_estimators=200, n_jobs=-1, random_state=42)</pre></div> </div></div></div></div>"
            ]
          },
          "metadata": {},
          "execution_count": 21
        }
      ]
    },
    {
      "cell_type": "markdown",
      "source": [
        "##### Evaluación"
      ],
      "metadata": {
        "id": "bcJD_ljeRn4y"
      },
      "id": "bcJD_ljeRn4y"
    },
    {
      "cell_type": "code",
      "source": [
        "# Validación y prueba en escala normalizada (luego invertimos)\n",
        "y_pred_val = rf_model.predict(Xva2)\n",
        "y_pred_te  = rf_model.predict(Xte2)\n",
        "\n",
        "# Invertir a escala real\n",
        "y_pred_val_inv = inverse_target(y_pred_val, scalers)\n",
        "y_val_inv      = inverse_target(yva, scalers)\n",
        "y_pred_te_inv  = inverse_target(y_pred_te, scalers)\n",
        "y_te_inv       = inverse_target(yte, scalers)\n",
        "\n",
        "# Índice temporal alineado para el tramo del test (one-step)\n",
        "start = HISTORY_WINDOW + SHIFT_ONE_STEP - 1\n",
        "idx_seg = test_df.index[start : start + len(y_te_inv)]\n"
      ],
      "metadata": {
        "id": "37SD4WZPQBjg"
      },
      "id": "37SD4WZPQBjg",
      "execution_count": 22,
      "outputs": []
    },
    {
      "cell_type": "code",
      "source": [
        "# Métricas\n",
        "smape_val = smape(y_val_inv, y_pred_val_inv)\n",
        "wape_val  = wape(y_val_inv, y_pred_val_inv)\n",
        "smape_te  = smape(y_te_inv,  y_pred_te_inv)\n",
        "wape_te   = wape(y_te_inv,   y_pred_te_inv)\n",
        "\n",
        "print(f\"VAL  → sMAPE: {smape_val:.3f}% | WAPE: {wape_val:.3f}%\")\n",
        "print(f\"TEST → sMAPE: {smape_te:.3f}% | WAPE: {wape_te:.3f}%\")\n",
        "\n",
        "# Gráfico de un tramo\n",
        "plot_segment(idx_seg[:800], y_te_inv[:800], y_pred_te_inv[:800],\n",
        "             title=\"One‑step (10 min) — Random Forest\", target_name=TARGET_COL)"
      ],
      "metadata": {
        "id": "H5CSuk_9QUDy",
        "outputId": "054549ea-c0f3-48d4-9e0c-fa665005e292",
        "colab": {
          "base_uri": "https://localhost:8080/",
          "height": 0
        }
      },
      "id": "H5CSuk_9QUDy",
      "execution_count": 23,
      "outputs": [
        {
          "output_type": "stream",
          "name": "stdout",
          "text": [
            "VAL  → sMAPE: 4.622% | WAPE: 4.267%\n",
            "TEST → sMAPE: 7.229% | WAPE: 6.632%\n"
          ]
        },
        {
          "output_type": "display_data",
          "data": {
            "text/plain": [
              "<Figure size 1200x400 with 1 Axes>"
            ],
            "image/png": "[encoded data removed]"
          },
          "metadata": {}
        }
      ]
    },
    {
      "cell_type": "markdown",
      "source": [
        "##### Pronóstico a 1 Paso"
      ],
      "metadata": {
        "id": "MNvvsnzORpwS"
      },
      "id": "MNvvsnzORpwS"
    },
    {
      "cell_type": "markdown",
      "source": [
        "##### Pronóstico a Múltiples Pasos"
      ],
      "metadata": {
        "id": "aOeSRyN7RsEb"
      },
      "id": "aOeSRyN7RsEb"
    },
    {
      "cell_type": "code",
      "source": [
        "# --- Pronóstico recursivo ---\n",
        "def recursive_forecast(\n",
        "    model,\n",
        "    seed_window: np.ndarray,   # (HISTORY_WINDOW, F) en escala normalizada\n",
        "    steps: int,\n",
        ") -> np.ndarray:\n",
        "    \"\"\"\n",
        "    Genera 'steps' predicciones autoregresivas.\n",
        "    Se asume que la ÚLTIMA columna de seed_window es el TARGET\n",
        "    (orden de features: EXOG_COLS + [TARGET_COL]).\n",
        "    \"\"\"\n",
        "    hist = seed_window.copy()      # (H, F)\n",
        "    preds = []\n",
        "    for _ in range(steps):\n",
        "        x = hist.reshape(1, -1)    # aplanar para modelos tabulares (sklearn)\n",
        "        y_hat = model.predict(x)[0]  # escala normalizada\n",
        "        preds.append(y_hat)\n",
        "\n",
        "        # Exógenas: estrategia 'hold' (mantener último valor); actualizar TARGET con y_hat\n",
        "        next_row = hist[-1].copy()\n",
        "        next_row[-1] = y_hat\n",
        "        hist = np.vstack([hist[1:], next_row])\n",
        "    return np.array(preds)\n",
        "\n",
        "# --- Construcción de la semilla desde 'test_n' ---\n",
        "feats_order = EXOG_COLS + [TARGET_COL]\n",
        "\n",
        "# Elegimos el seed de forma que existan 'STEPS' verdaderos luego del seed para evaluar:\n",
        "STEPS = 18  # 3 horas (18 * 10 min)\n",
        "# Ubicamos la semilla lo más tarde posible pero dejando espacio para 'STEPS' futuros:\n",
        "seed_start = max(0, len(test_n) - (HISTORY_WINDOW + STEPS))\n",
        "seed_end   = seed_start + HISTORY_WINDOW\n",
        "\n",
        "seed_win = test_n[feats_order].values[seed_start:seed_end]  # (HISTORY_WINDOW, F)\n",
        "\n",
        "# --- Predicción recursiva (normalizada) y desnormalización ---\n",
        "y_pred_rec_norm = recursive_forecast(rf_model, seed_win, STEPS)\n",
        "y_pred_rec       = inverse_target(y_pred_rec_norm, scalers)\n",
        "\n",
        "# --- Verdaderos y ejes de tiempo para evaluación ---\n",
        "true_start = seed_end\n",
        "true_end   = seed_end + STEPS\n",
        "\n",
        "y_true_rec = test_df[TARGET_COL].values[true_start:true_end]\n",
        "idx_future = test_df.index[true_start:true_end]\n",
        "\n",
        "# Seguridad: longitudes deben coincidir\n",
        "assert len(y_true_rec) == len(y_pred_rec) == STEPS, \"Desalineación en longitudes para evaluación recursive.\"\n",
        "\n",
        "# --- Métricas y gráfico ---\n",
        "smape_rec = smape(y_true_rec, y_pred_rec)\n",
        "wape_rec  = wape(y_true_rec, y_pred_rec)\n",
        "print(f\"Recursive 3h → sMAPE: {smape_rec:.3f}% | WAPE: {wape_rec:.3f}%\")\n",
        "\n",
        "plot_segment(idx_future, y_true_rec, y_pred_rec,\n",
        "             title=\"Recursive (3h) — Random Forest\", target_name=TARGET_COL)\n"
      ],
      "metadata": {
        "id": "pKQIDEiyR301",
        "outputId": "b9ca1c3c-8089-4eaf-b317-26c0756257d9",
        "colab": {
          "base_uri": "https://localhost:8080/",
          "height": 0
        }
      },
      "id": "pKQIDEiyR301",
      "execution_count": 24,
      "outputs": [
        {
          "output_type": "stream",
          "name": "stdout",
          "text": [
            "Recursive 3h → sMAPE: 2.493% | WAPE: 2.597%\n"
          ]
        },
        {
          "output_type": "display_data",
          "data": {
            "text/plain": [
              "<Figure size 1200x400 with 1 Axes>"
            ],
            "image/png": "[encoded data removed]"
          },
          "metadata": {}
        }
      ]
    },
    {
      "cell_type": "markdown",
      "id": "b85dda6b",
      "metadata": {
        "id": "b85dda6b"
      },
      "source": [
        "#### **Predicción**"
      ]
    },
    {
      "cell_type": "markdown",
      "id": "be775a60",
      "metadata": {
        "id": "be775a60"
      },
      "source": [
        "A un paso (Bagging Random Forest)"
      ]
    },
    {
      "cell_type": "markdown",
      "id": "98ab5ee0",
      "metadata": {
        "id": "98ab5ee0"
      },
      "source": [
        "A múltiples pasos (Bagging)"
      ]
    },
    {
      "cell_type": "code",
      "execution_count": 24,
      "id": "056f13e0",
      "metadata": {
        "id": "056f13e0"
      },
      "outputs": [],
      "source": []
    },
    {
      "cell_type": "markdown",
      "id": "14ce142e",
      "metadata": {
        "id": "14ce142e"
      },
      "source": [
        "A un paso (Boosting x3)"
      ]
    },
    {
      "cell_type": "code",
      "execution_count": 24,
      "id": "1230d934",
      "metadata": {
        "id": "1230d934"
      },
      "outputs": [],
      "source": []
    },
    {
      "cell_type": "markdown",
      "id": "c4b8acca",
      "metadata": {
        "id": "c4b8acca"
      },
      "source": [
        "A múltiples pasos (Boosting x3)"
      ]
    },
    {
      "cell_type": "code",
      "execution_count": 24,
      "id": "19f46aaa",
      "metadata": {
        "id": "19f46aaa"
      },
      "outputs": [],
      "source": []
    },
    {
      "cell_type": "markdown",
      "id": "e08215e4",
      "metadata": {
        "id": "e08215e4"
      },
      "source": [
        "---"
      ]
    },
    {
      "cell_type": "markdown",
      "id": "564d3a83",
      "metadata": {
        "id": "564d3a83"
      },
      "source": [
        "#### **Analisis de resultados**"
      ]
    },
    {
      "cell_type": "markdown",
      "id": "b657385f",
      "metadata": {
        "id": "b657385f"
      },
      "source": [
        "Métricas a evaluar:\n",
        "1. sMAPE\n",
        "2. WAPE"
      ]
    },
    {
      "cell_type": "code",
      "execution_count": 24,
      "id": "6b81e357",
      "metadata": {
        "id": "6b81e357"
      },
      "outputs": [],
      "source": []
    },
    {
      "cell_type": "markdown",
      "id": "45cc6a87",
      "metadata": {
        "id": "45cc6a87"
      },
      "source": [
        "---"
      ]
    }
  ],
  "metadata": {
    "kernelspec": {
      "display_name": "Python 3",
      "name": "python3"
    },
    "language_info": {
      "name": "python",
      "version": "3.12.0"
    },
    "colab": {
      "provenance": [],
      "include_colab_link": true
    }
  },
  "nbformat": 4,
  "nbformat_minor": 5
}