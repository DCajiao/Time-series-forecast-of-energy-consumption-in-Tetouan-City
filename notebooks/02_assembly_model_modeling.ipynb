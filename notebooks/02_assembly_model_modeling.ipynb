{
 "cells": [
  {
   "cell_type": "markdown",
   "id": "a241516a",
   "metadata": {},
   "source": [
    "### Entrenamiento, Predicción y Evaluación de los modelos de ensamble"
   ]
  },
  {
   "cell_type": "markdown",
   "id": "84b66acb",
   "metadata": {},
   "source": [
    "#### **Entrenamiento**"
   ]
  },
  {
   "cell_type": "markdown",
   "id": "19c5d216",
   "metadata": {},
   "source": [
    "Modelo Bagging (1):"
   ]
  },
  {
   "cell_type": "code",
   "execution_count": null,
   "id": "48071eeb",
   "metadata": {},
   "outputs": [],
   "source": []
  },
  {
   "cell_type": "markdown",
   "id": "3e46477b",
   "metadata": {},
   "source": [
    "Modelos Boosting (3):"
   ]
  },
  {
   "cell_type": "code",
   "execution_count": null,
   "id": "1e199ed1",
   "metadata": {},
   "outputs": [],
   "source": []
  },
  {
   "cell_type": "markdown",
   "id": "2a5878d9",
   "metadata": {},
   "source": [
    "---"
   ]
  },
  {
   "cell_type": "markdown",
   "id": "b85dda6b",
   "metadata": {},
   "source": [
    "#### **Predicción**"
   ]
  },
  {
   "cell_type": "markdown",
   "id": "be775a60",
   "metadata": {},
   "source": [
    "A un paso (Bagging)"
   ]
  },
  {
   "cell_type": "code",
   "execution_count": null,
   "id": "97874192",
   "metadata": {},
   "outputs": [],
   "source": []
  },
  {
   "cell_type": "markdown",
   "id": "98ab5ee0",
   "metadata": {},
   "source": [
    "A múltiples pasos (Bagging)"
   ]
  },
  {
   "cell_type": "code",
   "execution_count": null,
   "id": "056f13e0",
   "metadata": {},
   "outputs": [],
   "source": []
  },
  {
   "cell_type": "markdown",
   "id": "14ce142e",
   "metadata": {},
   "source": [
    "A un paso (Boosting x3)"
   ]
  },
  {
   "cell_type": "code",
   "execution_count": null,
   "id": "1230d934",
   "metadata": {},
   "outputs": [],
   "source": []
  },
  {
   "cell_type": "markdown",
   "id": "c4b8acca",
   "metadata": {},
   "source": [
    "A múltiples pasos (Boosting x3)"
   ]
  },
  {
   "cell_type": "code",
   "execution_count": null,
   "id": "19f46aaa",
   "metadata": {},
   "outputs": [],
   "source": []
  },
  {
   "cell_type": "markdown",
   "id": "e08215e4",
   "metadata": {},
   "source": [
    "---"
   ]
  },
  {
   "cell_type": "markdown",
   "id": "564d3a83",
   "metadata": {},
   "source": [
    "#### **Analisis de resultados**"
   ]
  },
  {
   "cell_type": "markdown",
   "id": "b657385f",
   "metadata": {},
   "source": [
    "Métricas a evaluar: \n",
    "1. sMAPE\n",
    "2. WAPE"
   ]
  },
  {
   "cell_type": "code",
   "execution_count": null,
   "id": "6b81e357",
   "metadata": {},
   "outputs": [],
   "source": []
  },
  {
   "cell_type": "markdown",
   "id": "45cc6a87",
   "metadata": {},
   "source": [
    "---"
   ]
  }
 ],
 "metadata": {
  "kernelspec": {
   "display_name": "Python 3",
   "language": "python",
   "name": "python3"
  },
  "language_info": {
   "name": "python",
   "version": "3.12.0"
  }
 },
 "nbformat": 4,
 "nbformat_minor": 5
}
