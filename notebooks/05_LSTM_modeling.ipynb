{
  "cells": [
    {
      "cell_type": "markdown",
      "metadata": {
        "id": "view-in-github",
        "colab_type": "text"
      },
      "source": [
        "<a href=\"https://colab.research.google.com/github/DCajiao/Time-series-forecast-of-energy-consumption-in-Tetouan-City/blob/main/notebooks/05_LSTM_modeling.ipynb\" target=\"_parent\"><img src=\"https://colab.research.google.com/assets/colab-badge.svg\" alt=\"Open In Colab\"/></a>"
      ]
    },
    {
      "cell_type": "markdown",
      "id": "a241516a",
      "metadata": {
        "id": "a241516a"
      },
      "source": [
        "### Entrenamiento, Predicción y Evaluación de un modelo LSTM"
      ]
    },
    {
      "cell_type": "markdown",
      "source": [
        "#### **Importación de Datos**"
      ],
      "metadata": {
        "id": "Pt7IWozrb4vg"
      },
      "id": "Pt7IWozrb4vg"
    },
    {
      "cell_type": "code",
      "source": [
        "import requests\n",
        "import pandas as pd\n",
        "import numpy as np\n",
        "import sys, os, math, typing as t\n",
        "import warnings\n",
        "import time\n",
        "\n",
        "import tensorflow as tf\n",
        "import seaborn as sns\n",
        "import matplotlib.pyplot as plt\n",
        "import matplotlib.dates as mdates\n",
        "\n",
        "from io import BytesIO\n",
        "from dataclasses import dataclass\n",
        "from dataclasses import dataclass\n",
        "from sklearn.model_selection import train_test_split\n",
        "from sklearn.preprocessing import StandardScaler\n",
        "from sklearn.ensemble import RandomForestRegressor\n",
        "from sklearn.metrics import mean_absolute_error\n",
        "from datetime import timedelta\n",
        "from tensorflow import keras\n",
        "from tensorflow.keras import layers, regularizers, mixed_precision\n",
        "\n",
        "plt.rcParams.update({\n",
        "    \"figure.figsize\": (12, 5),\n",
        "    \"axes.grid\": True\n",
        "})\n",
        "\n",
        "warnings.filterwarnings('ignore')\n",
        "\n",
        "tf.keras.utils.set_random_seed(42)\n",
        "mixed_precision.set_global_policy(\"mixed_float16\")"
      ],
      "metadata": {
        "id": "aMOS1EWzb50I"
      },
      "id": "aMOS1EWzb50I",
      "execution_count": null,
      "outputs": []
    },
    {
      "cell_type": "code",
      "source": [
        "# Importar datos\n",
        "DATA_GITHUB_URL = 'https://raw.githubusercontent.com/DCajiao/Time-series-forecast-of-energy-consumption-in-Tetouan-City/refs/heads/main/data/zone1_power_consumption_of_tetouan_city.csv'\n",
        "\n",
        "# Descargar los datos desde github\n",
        "response = requests.get(DATA_GITHUB_URL)\n",
        "\n",
        "# Convertir en un df desde el xlsx de github\n",
        "df = pd.read_csv(BytesIO(response.content), sep=',')\n",
        "\n",
        "df[\"datetime\"] = pd.to_datetime(df[\"datetime\"], errors=\"coerce\")\n",
        "df = df.set_index(\"datetime\")\n",
        "\n",
        "# Validaciones mínimas\n",
        "expected_cols = {\"temperature\",\"humidity\",\"general_diffuse_flows\",\"zone_1\"}\n",
        "missing = expected_cols - set(df.columns)\n",
        "if missing:\n",
        "    raise ValueError(f\"Faltan columnas en el dataset: {missing}. \"\n",
        "                     f\"Columnas disponibles: {df.columns.tolist()}\")\n",
        "\n",
        "print(\"\\nFrecuencia aproximada:\", (df.index.to_series().diff().mode().iloc[0]))\n",
        "print(\"Filas totales:\", len(df))"
      ],
      "metadata": {
        "colab": {
          "base_uri": "https://localhost:8080/"
        },
        "id": "4uAIpO-9b84Z",
        "outputId": "9e664fa1-9fd7-4801-ac17-d3b3cd3d04d7"
      },
      "id": "4uAIpO-9b84Z",
      "execution_count": null,
      "outputs": [
        {
          "output_type": "stream",
          "name": "stdout",
          "text": [
            "\n",
            "Frecuencia aproximada: 0 days 00:10:00\n",
            "Filas totales: 52416\n"
          ]
        }
      ]
    },
    {
      "cell_type": "markdown",
      "source": [
        "#### **Definición de Funciones y Partición de los datos**"
      ],
      "metadata": {
        "id": "LAvPhW9ucZ0k"
      },
      "id": "LAvPhW9ucZ0k"
    },
    {
      "cell_type": "code",
      "source": [
        "from typing import Optional, Dict\n",
        "\n",
        "def temporal_split(df: pd.DataFrame, train_size=0.7, val_size=0.2):\n",
        "    \"\"\"Split temporal 70/20/10 por defecto.\"\"\"\n",
        "    n = len(df)\n",
        "    n_train = int(n * train_size)\n",
        "    n_val = int(n * val_size)\n",
        "    train = df.iloc[:n_train]\n",
        "    val = df.iloc[n_train:n_train+n_val]\n",
        "    test = df.iloc[n_train+n_val:]\n",
        "    return train, val, test\n",
        "\n",
        "def make_windows(\n",
        "    data: pd.DataFrame,\n",
        "    target_col: str,\n",
        "    feature_cols: t.List[str],\n",
        "    history: int = 1008,   # 7 días de 10-min\n",
        "    target_shift: int = 1   # 1 paso adelante\n",
        "):\n",
        "    \"\"\"Crea X, y con ventana deslizante. X tiene forma (N, history, F).\n",
        "    Para modelos tipo sklearn, se devuelve además X2 (aplanado).\"\"\"\n",
        "    feats = data[feature_cols].values\n",
        "    target = data[target_col].values\n",
        "    X, y = [], []\n",
        "    for i in range(len(data) - history - target_shift + 1):\n",
        "        X.append(feats[i:i+history])\n",
        "        y.append(target[i+history+target_shift-1])\n",
        "    X = np.array(X)\n",
        "    y = np.array(y)\n",
        "    # Aplanado para modelos de tabular (árboles, etc.)\n",
        "    ns, h, f = X.shape\n",
        "    X2 = X.reshape((ns, h*f))\n",
        "    return X, X2, y\n",
        "\n",
        "def smape(y_true, y_pred, eps: float = 1e-8):\n",
        "    y_true = np.array(y_true, dtype=float)\n",
        "    y_pred = np.array(y_pred, dtype=float)\n",
        "    denom = (np.abs(y_true) + np.abs(y_pred)) + eps\n",
        "    return np.mean(2.0 * np.abs(y_pred - y_true) / denom) * 100.0\n",
        "\n",
        "def wape(y_true, y_pred, eps: float = 1e-8):\n",
        "    y_true = np.array(y_true, dtype=float)\n",
        "    y_pred = np.array(y_pred, dtype=float)\n",
        "    return (np.sum(np.abs(y_pred - y_true)) / (np.sum(np.abs(y_true)) + eps)) * 100.0\n",
        "\n",
        "@dataclass\n",
        "class Scalers:\n",
        "    X: Optional[StandardScaler] = None\n",
        "    y: Optional[StandardScaler] = None\n",
        "\n",
        "def fit_scalers(train_df: pd.DataFrame, feature_cols: t.List[str], target_col: str) -> Scalers:\n",
        "    sx = StandardScaler()\n",
        "    sy = StandardScaler()\n",
        "    sx.fit(train_df[feature_cols])\n",
        "    sy.fit(train_df[[target_col]])\n",
        "    return Scalers(X=sx, y=sy)\n",
        "\n",
        "def apply_scalers(df: pd.DataFrame, scalers: Scalers, feature_cols: t.List[str], target_col: str):\n",
        "    out = df.copy()\n",
        "    out[feature_cols] = scalers.X.transform(out[feature_cols])\n",
        "    out[target_col]  = scalers.y.transform(out[[target_col]])\n",
        "    return out\n",
        "\n",
        "def inverse_target(y: np.ndarray, scalers: Scalers) -> np.ndarray:\n",
        "    return scalers.y.inverse_transform(y.reshape(-1,1)).ravel()\n",
        "\n",
        "def plot_segment(idx, y_true, y_pred, title=\"Predicción (tramo)\", target_name=\"target\"):\n",
        "    plt.figure(figsize=(12,4))\n",
        "    plt.plot(idx, y_true, label=\"Real\", linewidth=2)\n",
        "    plt.plot(idx, y_pred, label=\"Pred\", linewidth=2)\n",
        "    plt.title(title)\n",
        "    plt.xlabel(\"Tiempo\"); plt.ylabel(target_name); plt.legend(); plt.tight_layout(); plt.show()"
      ],
      "metadata": {
        "id": "BNVUJpOIcdrk"
      },
      "id": "BNVUJpOIcdrk",
      "execution_count": null,
      "outputs": []
    },
    {
      "cell_type": "code",
      "source": [
        "TARGET_COL = \"zone_1\"  # consumo a pronosticar\n",
        "EXOG_COLS = [\"temperature\", \"humidity\", \"general_diffuse_flows\"]  # exógenas priorizadas\n",
        "\n",
        "# Ordenar columnas por claridad (target al final)\n",
        "cols = EXOG_COLS + [TARGET_COL]\n",
        "df2 = df[cols].copy().astype(\"float32\")\n",
        "\n",
        "# Splits temporales base (para val/test)\n",
        "train_df_full, val_df, test_df = temporal_split(df2, train_size=0.7, val_size=0.2)\n",
        "print({s: len(x) for s,x in [('train_full',train_df_full),('val',val_df),('test',test_df)]})\n",
        "\n",
        "\n",
        "# Entrenar con los últimos 45 días\n",
        "POINTS_PER_DAY = 24 * 6           # 10 min = 6 puntos por hora = 144 por día\n",
        "TRAIN_DAYS = 45\n",
        "WINDOW_TRAIN_POINTS = TRAIN_DAYS * POINTS_PER_DAY  # 45 * 144 = 6480\n",
        "\n",
        "HISTORY_WINDOW = 7 * POINTS_PER_DAY   # 7 días = 1008 pasos\n",
        "SHIFT_ONE_STEP = 1                    # +10 min\n",
        "\n",
        "# Tomamos exactamente los últimos 45 días como training\n",
        "train_df = train_df_full.tail(WINDOW_TRAIN_POINTS)\n",
        "\n",
        "print(\n",
        "    \"train_df (últimos 45 días) =\",\n",
        "    train_df.index.min(), \"→\", train_df.index.max(),\n",
        "    \"| filas:\", len(train_df)\n",
        ")\n",
        "\n",
        "\n",
        "# Escalado Z-score (stats SOLO del train de 45 días)\n",
        "scalers = fit_scalers(train_df, EXOG_COLS, TARGET_COL)\n",
        "train_n = apply_scalers(train_df, scalers, EXOG_COLS, TARGET_COL)\n",
        "val_n   = apply_scalers(val_df,   scalers, EXOG_COLS, TARGET_COL)\n",
        "test_n  = apply_scalers(test_df,  scalers, EXOG_COLS, TARGET_COL)\n",
        "\n",
        "# Ventanas one-step (history=1008, shift=1)\n",
        "Xtr, Xtr2, ytr = make_windows(\n",
        "    train_n, TARGET_COL, EXOG_COLS + [TARGET_COL],\n",
        "    history=HISTORY_WINDOW, target_shift=SHIFT_ONE_STEP\n",
        ")\n",
        "Xva, Xva2, yva = make_windows(\n",
        "    val_n, TARGET_COL, EXOG_COLS + [TARGET_COL],\n",
        "    history=HISTORY_WINDOW, target_shift=SHIFT_ONE_STEP\n",
        ")\n",
        "Xte, Xte2, yte = make_windows(\n",
        "    test_n, TARGET_COL, EXOG_COLS + [TARGET_COL],\n",
        "    history=HISTORY_WINDOW, target_shift=SHIFT_ONE_STEP\n",
        ")\n",
        "\n",
        "print(\"Shapes →\",\n",
        "      \"Xtr2:\", Xtr2.shape, \"ytr:\", ytr.shape, \"|\",\n",
        "      \"Xva2:\", Xva2.shape, \"yva:\", yva.shape, \"|\",\n",
        "      \"Xte2:\", Xte2.shape, \"yte:\", yte.shape)\n",
        "\n",
        "# Validación rápida\n",
        "assert Xtr2.shape[0] >= 1, \"No hay suficientes filas en los últimos 45 días para formar al menos 1 ventana.\"\n"
      ],
      "metadata": {
        "colab": {
          "base_uri": "https://localhost:8080/"
        },
        "id": "Ax_4mOfNcfK8",
        "outputId": "2ee1a834-2d08-4c0b-afe6-f5afc90bc272"
      },
      "id": "Ax_4mOfNcfK8",
      "execution_count": null,
      "outputs": [
        {
          "output_type": "stream",
          "name": "stdout",
          "text": [
            "{'train_full': 36691, 'val': 10483, 'test': 5242}\n",
            "train_df (últimos 45 días) = 2017-07-29 19:10:00 → 2017-09-12 19:00:00 | filas: 6480\n",
            "Shapes → Xtr2: (5472, 4032) ytr: (5472,) | Xva2: (9475, 4032) yva: (9475,) | Xte2: (4234, 4032) yte: (4234,)\n"
          ]
        }
      ]
    },
    {
      "cell_type": "markdown",
      "id": "84b66acb",
      "metadata": {
        "id": "84b66acb"
      },
      "source": [
        "#### **Entrenamiento**"
      ]
    },
    {
      "cell_type": "code",
      "execution_count": null,
      "id": "48071eeb",
      "metadata": {
        "id": "48071eeb"
      },
      "outputs": [],
      "source": [
        "# =========================\n",
        "# ENTRENAMIENTO — LSTM (sequence-to-one, one-step)\n",
        "# =========================\n",
        "# Fundamento técnico:\n",
        "# - A diferencia del MLP/árboles que consumen la ventana aplanada (2D),\n",
        "#   un LSTM consume secuencias 3D: (batch, time_steps=HISTORY_WINDOW, features=F).\n",
        "# - El LSTM modela dependencias temporales (memoria) y puede capturar estacionalidad intradía/intra-semanal.\n",
        "# - Evitamos recurrent_dropout>0 para conservar kernels cuDNN (si hay GPU) y maximizar rendimiento.\n",
        "# - Regularización: Dropout pos-LSTM y L2 en Dense para mitigar sobreajuste.\n",
        "# - EarlyStopping + ReduceLROnPlateau estabilizan la convergencia.\n",
        "\n",
        "import numpy as np\n",
        "import tensorflow as tf\n",
        "from tensorflow import keras\n",
        "from tensorflow.keras import layers, regularizers\n",
        "\n",
        "# ---------- Recalcular splits y ventanas (por si no existen) ----------\n",
        "POINTS_PER_DAY = 24 * 6\n",
        "TRAIN_DAYS = 45\n",
        "WINDOW_TRAIN_POINTS = TRAIN_DAYS * POINTS_PER_DAY\n",
        "\n",
        "# Subconjunto de columnas y tipo liviano\n",
        "cols = EXOG_COLS + [TARGET_COL]\n",
        "df2 = df[cols].copy().astype(\"float32\")\n",
        "\n",
        "# Splits base\n",
        "train_df_full, val_df, test_df = temporal_split(df2, train_size=0.7, val_size=0.2)\n",
        "\n",
        "# Train = últimos 45 días\n",
        "train_df = train_df_full.tail(WINDOW_TRAIN_POINTS)\n",
        "\n",
        "# Escalado SOLO con train (evita leakage)\n",
        "scalers = fit_scalers(train_df, EXOG_COLS, TARGET_COL)\n",
        "train_n = apply_scalers(train_df, scalers, EXOG_COLS, TARGET_COL)\n",
        "val_n   = apply_scalers(val_df,   scalers, EXOG_COLS, TARGET_COL)\n",
        "test_n  = apply_scalers(test_df,  scalers, EXOG_COLS, TARGET_COL)\n",
        "\n",
        "# Ventanas para LSTM (3D)\n",
        "HISTORY_WINDOW = 7 * POINTS_PER_DAY  # 1008\n",
        "SHIFT_ONE_STEP = 1\n",
        "Xtr, Xtr2, ytr = make_windows(train_n, TARGET_COL, EXOG_COLS + [TARGET_COL],\n",
        "                              history=HISTORY_WINDOW, target_shift=SHIFT_ONE_STEP)\n",
        "Xva, Xva2, yva = make_windows(val_n,   TARGET_COL, EXOG_COLS + [TARGET_COL],\n",
        "                              history=HISTORY_WINDOW, target_shift=SHIFT_ONE_STEP)\n",
        "Xte, Xte2, yte = make_windows(test_n,  TARGET_COL, EXOG_COLS + [TARGET_COL],\n",
        "                              history=HISTORY_WINDOW, target_shift=SHIFT_ONE_STEP)"
      ]
    },
    {
      "cell_type": "code",
      "source": [
        "# Asegurar dtypes livianos\n",
        "Xtr = Xtr.astype(\"float32\"); ytr = ytr.astype(\"float32\")\n",
        "Xva = Xva.astype(\"float32\"); yva = yva.astype(\"float32\")\n",
        "Xte = Xte.astype(\"float32\"); yte = yte.astype(\"float32\")\n",
        "\n",
        "# ---------- Definición del modelo LSTM ----------\n",
        "time_steps = Xtr.shape[1]                 # 1008\n",
        "num_features = Xtr.shape[2]               # len(EXOG_COLS) + 1 (target)\n",
        "inputs = keras.Input(shape=(time_steps, num_features), dtype=\"float32\")\n",
        "\n",
        "# LSTM unidireccional; mantenemos recurrent_dropout=0 para kernels cuDNN (GPU)\n",
        "x = layers.LSTM(128, return_sequences=False)(inputs)\n",
        "x = layers.Dropout(0.2)(x)                                # regularización\n",
        "x = layers.Dense(64, activation=\"relu\",\n",
        "                 kernel_regularizer=regularizers.l2(1e-4))(x)\n",
        "# Salida escalar: predicción de t+1 en escala normalizada (float32 para estabilidad con mixed precision)\n",
        "outputs = layers.Dense(1, dtype=\"float32\")(x)\n",
        "\n",
        "lstm = keras.Model(inputs, outputs, name=\"lstm_one_step\")\n",
        "lstm.summary()"
      ],
      "metadata": {
        "colab": {
          "base_uri": "https://localhost:8080/",
          "height": 289
        },
        "id": "wy4aKCIGctmu",
        "outputId": "8de490b9-d5b2-4acc-8f87-e51423a3df86"
      },
      "id": "wy4aKCIGctmu",
      "execution_count": null,
      "outputs": [
        {
          "output_type": "display_data",
          "data": {
            "text/plain": [
              "\u001b[1mModel: \"lstm_one_step\"\u001b[0m\n"
            ],
            "text/html": [
              "<pre style=\"white-space:pre;overflow-x:auto;line-height:normal;font-family:Menlo,'DejaVu Sans Mono',consolas,'Courier New',monospace\"><span style=\"font-weight: bold\">Model: \"lstm_one_step\"</span>\n",
              "</pre>\n"
            ]
          },
          "metadata": {}
        },
        {
          "output_type": "display_data",
          "data": {
            "text/plain": [
              "┏━━━━━━━━━━━━━━━━━━━━━━━━━━━━━━━━━┳━━━━━━━━━━━━━━━━━━━━━━━━┳━━━━━━━━━━━━━━━┓\n",
              "┃\u001b[1m \u001b[0m\u001b[1mLayer (type)                   \u001b[0m\u001b[1m \u001b[0m┃\u001b[1m \u001b[0m\u001b[1mOutput Shape          \u001b[0m\u001b[1m \u001b[0m┃\u001b[1m \u001b[0m\u001b[1m      Param #\u001b[0m\u001b[1m \u001b[0m┃\n",
              "┡━━━━━━━━━━━━━━━━━━━━━━━━━━━━━━━━━╇━━━━━━━━━━━━━━━━━━━━━━━━╇━━━━━━━━━━━━━━━┩\n",
              "│ input_layer (\u001b[38;5;33mInputLayer\u001b[0m)        │ (\u001b[38;5;45mNone\u001b[0m, \u001b[38;5;34m1008\u001b[0m, \u001b[38;5;34m4\u001b[0m)        │             \u001b[38;5;34m0\u001b[0m │\n",
              "├─────────────────────────────────┼────────────────────────┼───────────────┤\n",
              "│ lstm (\u001b[38;5;33mLSTM\u001b[0m)                     │ (\u001b[38;5;45mNone\u001b[0m, \u001b[38;5;34m128\u001b[0m)            │        \u001b[38;5;34m68,096\u001b[0m │\n",
              "├─────────────────────────────────┼────────────────────────┼───────────────┤\n",
              "│ dropout (\u001b[38;5;33mDropout\u001b[0m)               │ (\u001b[38;5;45mNone\u001b[0m, \u001b[38;5;34m128\u001b[0m)            │             \u001b[38;5;34m0\u001b[0m │\n",
              "├─────────────────────────────────┼────────────────────────┼───────────────┤\n",
              "│ dense (\u001b[38;5;33mDense\u001b[0m)                   │ (\u001b[38;5;45mNone\u001b[0m, \u001b[38;5;34m64\u001b[0m)             │         \u001b[38;5;34m8,256\u001b[0m │\n",
              "├─────────────────────────────────┼────────────────────────┼───────────────┤\n",
              "│ dense_1 (\u001b[38;5;33mDense\u001b[0m)                 │ (\u001b[38;5;45mNone\u001b[0m, \u001b[38;5;34m1\u001b[0m)              │            \u001b[38;5;34m65\u001b[0m │\n",
              "└─────────────────────────────────┴────────────────────────┴───────────────┘\n"
            ],
            "text/html": [
              "<pre style=\"white-space:pre;overflow-x:auto;line-height:normal;font-family:Menlo,'DejaVu Sans Mono',consolas,'Courier New',monospace\">┏━━━━━━━━━━━━━━━━━━━━━━━━━━━━━━━━━┳━━━━━━━━━━━━━━━━━━━━━━━━┳━━━━━━━━━━━━━━━┓\n",
              "┃<span style=\"font-weight: bold\"> Layer (type)                    </span>┃<span style=\"font-weight: bold\"> Output Shape           </span>┃<span style=\"font-weight: bold\">       Param # </span>┃\n",
              "┡━━━━━━━━━━━━━━━━━━━━━━━━━━━━━━━━━╇━━━━━━━━━━━━━━━━━━━━━━━━╇━━━━━━━━━━━━━━━┩\n",
              "│ input_layer (<span style=\"color: #0087ff; text-decoration-color: #0087ff\">InputLayer</span>)        │ (<span style=\"color: #00d7ff; text-decoration-color: #00d7ff\">None</span>, <span style=\"color: #00af00; text-decoration-color: #00af00\">1008</span>, <span style=\"color: #00af00; text-decoration-color: #00af00\">4</span>)        │             <span style=\"color: #00af00; text-decoration-color: #00af00\">0</span> │\n",
              "├─────────────────────────────────┼────────────────────────┼───────────────┤\n",
              "│ lstm (<span style=\"color: #0087ff; text-decoration-color: #0087ff\">LSTM</span>)                     │ (<span style=\"color: #00d7ff; text-decoration-color: #00d7ff\">None</span>, <span style=\"color: #00af00; text-decoration-color: #00af00\">128</span>)            │        <span style=\"color: #00af00; text-decoration-color: #00af00\">68,096</span> │\n",
              "├─────────────────────────────────┼────────────────────────┼───────────────┤\n",
              "│ dropout (<span style=\"color: #0087ff; text-decoration-color: #0087ff\">Dropout</span>)               │ (<span style=\"color: #00d7ff; text-decoration-color: #00d7ff\">None</span>, <span style=\"color: #00af00; text-decoration-color: #00af00\">128</span>)            │             <span style=\"color: #00af00; text-decoration-color: #00af00\">0</span> │\n",
              "├─────────────────────────────────┼────────────────────────┼───────────────┤\n",
              "│ dense (<span style=\"color: #0087ff; text-decoration-color: #0087ff\">Dense</span>)                   │ (<span style=\"color: #00d7ff; text-decoration-color: #00d7ff\">None</span>, <span style=\"color: #00af00; text-decoration-color: #00af00\">64</span>)             │         <span style=\"color: #00af00; text-decoration-color: #00af00\">8,256</span> │\n",
              "├─────────────────────────────────┼────────────────────────┼───────────────┤\n",
              "│ dense_1 (<span style=\"color: #0087ff; text-decoration-color: #0087ff\">Dense</span>)                 │ (<span style=\"color: #00d7ff; text-decoration-color: #00d7ff\">None</span>, <span style=\"color: #00af00; text-decoration-color: #00af00\">1</span>)              │            <span style=\"color: #00af00; text-decoration-color: #00af00\">65</span> │\n",
              "└─────────────────────────────────┴────────────────────────┴───────────────┘\n",
              "</pre>\n"
            ]
          },
          "metadata": {}
        },
        {
          "output_type": "display_data",
          "data": {
            "text/plain": [
              "\u001b[1m Total params: \u001b[0m\u001b[38;5;34m76,417\u001b[0m (298.50 KB)\n"
            ],
            "text/html": [
              "<pre style=\"white-space:pre;overflow-x:auto;line-height:normal;font-family:Menlo,'DejaVu Sans Mono',consolas,'Courier New',monospace\"><span style=\"font-weight: bold\"> Total params: </span><span style=\"color: #00af00; text-decoration-color: #00af00\">76,417</span> (298.50 KB)\n",
              "</pre>\n"
            ]
          },
          "metadata": {}
        },
        {
          "output_type": "display_data",
          "data": {
            "text/plain": [
              "\u001b[1m Trainable params: \u001b[0m\u001b[38;5;34m76,417\u001b[0m (298.50 KB)\n"
            ],
            "text/html": [
              "<pre style=\"white-space:pre;overflow-x:auto;line-height:normal;font-family:Menlo,'DejaVu Sans Mono',consolas,'Courier New',monospace\"><span style=\"font-weight: bold\"> Trainable params: </span><span style=\"color: #00af00; text-decoration-color: #00af00\">76,417</span> (298.50 KB)\n",
              "</pre>\n"
            ]
          },
          "metadata": {}
        },
        {
          "output_type": "display_data",
          "data": {
            "text/plain": [
              "\u001b[1m Non-trainable params: \u001b[0m\u001b[38;5;34m0\u001b[0m (0.00 B)\n"
            ],
            "text/html": [
              "<pre style=\"white-space:pre;overflow-x:auto;line-height:normal;font-family:Menlo,'DejaVu Sans Mono',consolas,'Courier New',monospace\"><span style=\"font-weight: bold\"> Non-trainable params: </span><span style=\"color: #00af00; text-decoration-color: #00af00\">0</span> (0.00 B)\n",
              "</pre>\n"
            ]
          },
          "metadata": {}
        }
      ]
    },
    {
      "cell_type": "code",
      "source": [
        "# Optimizador y pérdidas en escala normalizada (MSE/MAE estándar para regresión)\n",
        "opt = keras.optimizers.Adam(learning_rate=1e-3)\n",
        "lstm.compile(optimizer=opt, loss=\"mse\", metrics=[\"mae\"])\n",
        "\n",
        "# Callbacks para generalización y convergencia estable\n",
        "cbs = [\n",
        "    keras.callbacks.EarlyStopping(monitor=\"val_loss\", mode=\"min\",\n",
        "                                  patience=20, restore_best_weights=True),\n",
        "    keras.callbacks.ReduceLROnPlateau(monitor=\"val_loss\", mode=\"min\",\n",
        "                                      factor=0.5, patience=8, min_lr=1e-5, verbose=1)\n",
        "]"
      ],
      "metadata": {
        "id": "n5xdEmkVc3So"
      },
      "id": "n5xdEmkVc3So",
      "execution_count": null,
      "outputs": []
    },
    {
      "cell_type": "code",
      "source": [
        "# Batch grande mejora throughput; ajusta si tu RAM es limitada\n",
        "start = time.time()\n",
        "history = lstm.fit(\n",
        "    Xtr, ytr,\n",
        "    validation_data=(Xva, yva),\n",
        "    epochs=400,\n",
        "    batch_size=256,   # 256–512 suele ir bien; prueba 512 si hay GPU\n",
        "    verbose=2,\n",
        "    callbacks=cbs\n",
        ")\n",
        "end = time.time()\n",
        "\n",
        "training_time = end - start\n",
        "print(f\"Tiempo de entrenamiento: {training_time:.2f} segundos\")"
      ],
      "metadata": {
        "colab": {
          "base_uri": "https://localhost:8080/"
        },
        "id": "UbWfOY41c5B3",
        "outputId": "e7613b76-59a9-44ec-e60b-1ce3484ceb07"
      },
      "id": "UbWfOY41c5B3",
      "execution_count": null,
      "outputs": [
        {
          "output_type": "stream",
          "name": "stdout",
          "text": [
            "Epoch 1/400\n",
            "22/22 - 9s - 388ms/step - loss: 0.3638 - mae: 0.4425 - val_loss: 0.1324 - val_mae: 0.2675 - learning_rate: 1.0000e-03\n",
            "Epoch 2/400\n",
            "22/22 - 2s - 106ms/step - loss: 0.0689 - mae: 0.1791 - val_loss: 0.0515 - val_mae: 0.1526 - learning_rate: 1.0000e-03\n",
            "Epoch 3/400\n",
            "22/22 - 2s - 96ms/step - loss: 0.0453 - mae: 0.1399 - val_loss: 0.0425 - val_mae: 0.1301 - learning_rate: 1.0000e-03\n",
            "Epoch 4/400\n",
            "22/22 - 2s - 106ms/step - loss: 0.0374 - mae: 0.1231 - val_loss: 0.0385 - val_mae: 0.1245 - learning_rate: 1.0000e-03\n",
            "Epoch 5/400\n",
            "22/22 - 2s - 75ms/step - loss: 0.0338 - mae: 0.1145 - val_loss: 0.0332 - val_mae: 0.1099 - learning_rate: 1.0000e-03\n",
            "Epoch 6/400\n",
            "22/22 - 2s - 100ms/step - loss: 0.0319 - mae: 0.1106 - val_loss: 0.0329 - val_mae: 0.1098 - learning_rate: 1.0000e-03\n",
            "Epoch 7/400\n",
            "22/22 - 2s - 91ms/step - loss: 0.0294 - mae: 0.1060 - val_loss: 0.0299 - val_mae: 0.1023 - learning_rate: 1.0000e-03\n",
            "Epoch 8/400\n",
            "22/22 - 3s - 115ms/step - loss: 0.0280 - mae: 0.1026 - val_loss: 0.0290 - val_mae: 0.0995 - learning_rate: 1.0000e-03\n",
            "Epoch 9/400\n",
            "22/22 - 3s - 147ms/step - loss: 0.0259 - mae: 0.0968 - val_loss: 0.0269 - val_mae: 0.0936 - learning_rate: 1.0000e-03\n",
            "Epoch 10/400\n",
            "22/22 - 2s - 75ms/step - loss: 0.0250 - mae: 0.0939 - val_loss: 0.0268 - val_mae: 0.0949 - learning_rate: 1.0000e-03\n",
            "Epoch 11/400\n",
            "22/22 - 2s - 100ms/step - loss: 0.0239 - mae: 0.0911 - val_loss: 0.0239 - val_mae: 0.0858 - learning_rate: 1.0000e-03\n",
            "Epoch 12/400\n",
            "22/22 - 2s - 75ms/step - loss: 0.0231 - mae: 0.0881 - val_loss: 0.0230 - val_mae: 0.0825 - learning_rate: 1.0000e-03\n",
            "Epoch 13/400\n",
            "22/22 - 3s - 141ms/step - loss: 0.0217 - mae: 0.0850 - val_loss: 0.0218 - val_mae: 0.0793 - learning_rate: 1.0000e-03\n",
            "Epoch 14/400\n",
            "22/22 - 2s - 97ms/step - loss: 0.0215 - mae: 0.0837 - val_loss: 0.0231 - val_mae: 0.0848 - learning_rate: 1.0000e-03\n",
            "Epoch 15/400\n",
            "22/22 - 2s - 108ms/step - loss: 0.0204 - mae: 0.0818 - val_loss: 0.0210 - val_mae: 0.0777 - learning_rate: 1.0000e-03\n",
            "Epoch 16/400\n",
            "22/22 - 2s - 75ms/step - loss: 0.0199 - mae: 0.0792 - val_loss: 0.0195 - val_mae: 0.0732 - learning_rate: 1.0000e-03\n",
            "Epoch 17/400\n",
            "22/22 - 3s - 115ms/step - loss: 0.0192 - mae: 0.0779 - val_loss: 0.0186 - val_mae: 0.0700 - learning_rate: 1.0000e-03\n",
            "Epoch 18/400\n",
            "22/22 - 2s - 75ms/step - loss: 0.0185 - mae: 0.0753 - val_loss: 0.0200 - val_mae: 0.0769 - learning_rate: 1.0000e-03\n",
            "Epoch 19/400\n",
            "22/22 - 2s - 75ms/step - loss: 0.0185 - mae: 0.0760 - val_loss: 0.0177 - val_mae: 0.0688 - learning_rate: 1.0000e-03\n",
            "Epoch 20/400\n",
            "22/22 - 3s - 145ms/step - loss: 0.0177 - mae: 0.0730 - val_loss: 0.0193 - val_mae: 0.0747 - learning_rate: 1.0000e-03\n",
            "Epoch 21/400\n",
            "22/22 - 2s - 86ms/step - loss: 0.0174 - mae: 0.0719 - val_loss: 0.0168 - val_mae: 0.0661 - learning_rate: 1.0000e-03\n",
            "Epoch 22/400\n",
            "22/22 - 2s - 76ms/step - loss: 0.0168 - mae: 0.0707 - val_loss: 0.0170 - val_mae: 0.0662 - learning_rate: 1.0000e-03\n",
            "Epoch 23/400\n",
            "22/22 - 3s - 114ms/step - loss: 0.0166 - mae: 0.0699 - val_loss: 0.0162 - val_mae: 0.0637 - learning_rate: 1.0000e-03\n",
            "Epoch 24/400\n",
            "22/22 - 3s - 115ms/step - loss: 0.0163 - mae: 0.0687 - val_loss: 0.0154 - val_mae: 0.0623 - learning_rate: 1.0000e-03\n",
            "Epoch 25/400\n",
            "22/22 - 2s - 101ms/step - loss: 0.0159 - mae: 0.0688 - val_loss: 0.0162 - val_mae: 0.0658 - learning_rate: 1.0000e-03\n",
            "Epoch 26/400\n",
            "22/22 - 2s - 89ms/step - loss: 0.0157 - mae: 0.0677 - val_loss: 0.0153 - val_mae: 0.0631 - learning_rate: 1.0000e-03\n",
            "Epoch 27/400\n",
            "22/22 - 2s - 96ms/step - loss: 0.0154 - mae: 0.0671 - val_loss: 0.0152 - val_mae: 0.0627 - learning_rate: 1.0000e-03\n",
            "Epoch 28/400\n",
            "22/22 - 2s - 94ms/step - loss: 0.0148 - mae: 0.0649 - val_loss: 0.0146 - val_mae: 0.0610 - learning_rate: 1.0000e-03\n",
            "Epoch 29/400\n",
            "22/22 - 3s - 141ms/step - loss: 0.0149 - mae: 0.0655 - val_loss: 0.0146 - val_mae: 0.0617 - learning_rate: 1.0000e-03\n",
            "Epoch 30/400\n",
            "22/22 - 3s - 116ms/step - loss: 0.0147 - mae: 0.0660 - val_loss: 0.0147 - val_mae: 0.0639 - learning_rate: 1.0000e-03\n",
            "Epoch 31/400\n",
            "22/22 - 3s - 116ms/step - loss: 0.0143 - mae: 0.0636 - val_loss: 0.0143 - val_mae: 0.0630 - learning_rate: 1.0000e-03\n",
            "Epoch 32/400\n",
            "22/22 - 2s - 108ms/step - loss: 0.0142 - mae: 0.0636 - val_loss: 0.0143 - val_mae: 0.0617 - learning_rate: 1.0000e-03\n",
            "Epoch 33/400\n",
            "22/22 - 2s - 83ms/step - loss: 0.0137 - mae: 0.0621 - val_loss: 0.0135 - val_mae: 0.0592 - learning_rate: 1.0000e-03\n",
            "Epoch 34/400\n",
            "22/22 - 2s - 101ms/step - loss: 0.0134 - mae: 0.0613 - val_loss: 0.0136 - val_mae: 0.0603 - learning_rate: 1.0000e-03\n",
            "Epoch 35/400\n",
            "22/22 - 2s - 77ms/step - loss: 0.0136 - mae: 0.0627 - val_loss: 0.0142 - val_mae: 0.0662 - learning_rate: 1.0000e-03\n",
            "Epoch 36/400\n",
            "22/22 - 3s - 118ms/step - loss: 0.0132 - mae: 0.0612 - val_loss: 0.0130 - val_mae: 0.0569 - learning_rate: 1.0000e-03\n",
            "Epoch 37/400\n",
            "22/22 - 2s - 112ms/step - loss: 0.0129 - mae: 0.0599 - val_loss: 0.0130 - val_mae: 0.0598 - learning_rate: 1.0000e-03\n",
            "Epoch 38/400\n",
            "22/22 - 2s - 101ms/step - loss: 0.0127 - mae: 0.0597 - val_loss: 0.0130 - val_mae: 0.0591 - learning_rate: 1.0000e-03\n",
            "Epoch 39/400\n",
            "22/22 - 2s - 91ms/step - loss: 0.0124 - mae: 0.0589 - val_loss: 0.0129 - val_mae: 0.0582 - learning_rate: 1.0000e-03\n",
            "Epoch 40/400\n",
            "22/22 - 3s - 118ms/step - loss: 0.0125 - mae: 0.0595 - val_loss: 0.0122 - val_mae: 0.0550 - learning_rate: 1.0000e-03\n",
            "Epoch 41/400\n",
            "22/22 - 2s - 87ms/step - loss: 0.0124 - mae: 0.0599 - val_loss: 0.0127 - val_mae: 0.0608 - learning_rate: 1.0000e-03\n",
            "Epoch 42/400\n",
            "22/22 - 2s - 105ms/step - loss: 0.0120 - mae: 0.0579 - val_loss: 0.0125 - val_mae: 0.0604 - learning_rate: 1.0000e-03\n",
            "Epoch 43/400\n",
            "22/22 - 2s - 76ms/step - loss: 0.0119 - mae: 0.0581 - val_loss: 0.0117 - val_mae: 0.0556 - learning_rate: 1.0000e-03\n",
            "Epoch 44/400\n",
            "22/22 - 2s - 76ms/step - loss: 0.0117 - mae: 0.0574 - val_loss: 0.0120 - val_mae: 0.0592 - learning_rate: 1.0000e-03\n",
            "Epoch 45/400\n",
            "22/22 - 2s - 77ms/step - loss: 0.0118 - mae: 0.0581 - val_loss: 0.0114 - val_mae: 0.0540 - learning_rate: 1.0000e-03\n",
            "Epoch 46/400\n",
            "22/22 - 3s - 140ms/step - loss: 0.0113 - mae: 0.0567 - val_loss: 0.0109 - val_mae: 0.0522 - learning_rate: 1.0000e-03\n",
            "Epoch 47/400\n",
            "22/22 - 2s - 82ms/step - loss: 0.0114 - mae: 0.0577 - val_loss: 0.0118 - val_mae: 0.0601 - learning_rate: 1.0000e-03\n",
            "Epoch 48/400\n",
            "22/22 - 2s - 77ms/step - loss: 0.0118 - mae: 0.0593 - val_loss: 0.0112 - val_mae: 0.0563 - learning_rate: 1.0000e-03\n",
            "Epoch 49/400\n",
            "22/22 - 2s - 77ms/step - loss: 0.0110 - mae: 0.0564 - val_loss: 0.0104 - val_mae: 0.0510 - learning_rate: 1.0000e-03\n",
            "Epoch 50/400\n",
            "22/22 - 3s - 114ms/step - loss: 0.0108 - mae: 0.0556 - val_loss: 0.0107 - val_mae: 0.0544 - learning_rate: 1.0000e-03\n",
            "Epoch 51/400\n",
            "22/22 - 2s - 76ms/step - loss: 0.0109 - mae: 0.0561 - val_loss: 0.0105 - val_mae: 0.0541 - learning_rate: 1.0000e-03\n",
            "Epoch 52/400\n",
            "22/22 - 2s - 77ms/step - loss: 0.0106 - mae: 0.0554 - val_loss: 0.0111 - val_mae: 0.0582 - learning_rate: 1.0000e-03\n",
            "Epoch 53/400\n",
            "22/22 - 2s - 86ms/step - loss: 0.0110 - mae: 0.0577 - val_loss: 0.0112 - val_mae: 0.0596 - learning_rate: 1.0000e-03\n",
            "Epoch 54/400\n",
            "22/22 - 2s - 103ms/step - loss: 0.0109 - mae: 0.0570 - val_loss: 0.0106 - val_mae: 0.0565 - learning_rate: 1.0000e-03\n",
            "Epoch 55/400\n",
            "22/22 - 2s - 105ms/step - loss: 0.0103 - mae: 0.0549 - val_loss: 0.0104 - val_mae: 0.0555 - learning_rate: 1.0000e-03\n",
            "Epoch 56/400\n",
            "22/22 - 2s - 88ms/step - loss: 0.0104 - mae: 0.0553 - val_loss: 0.0101 - val_mae: 0.0538 - learning_rate: 1.0000e-03\n",
            "Epoch 57/400\n",
            "22/22 - 2s - 77ms/step - loss: 0.0102 - mae: 0.0551 - val_loss: 0.0097 - val_mae: 0.0511 - learning_rate: 1.0000e-03\n",
            "Epoch 58/400\n",
            "22/22 - 3s - 140ms/step - loss: 0.0100 - mae: 0.0543 - val_loss: 0.0101 - val_mae: 0.0552 - learning_rate: 1.0000e-03\n",
            "Epoch 59/400\n",
            "22/22 - 3s - 116ms/step - loss: 0.0101 - mae: 0.0544 - val_loss: 0.0103 - val_mae: 0.0568 - learning_rate: 1.0000e-03\n",
            "Epoch 60/400\n",
            "22/22 - 2s - 90ms/step - loss: 0.0097 - mae: 0.0532 - val_loss: 0.0095 - val_mae: 0.0518 - learning_rate: 1.0000e-03\n",
            "Epoch 61/400\n",
            "22/22 - 3s - 116ms/step - loss: 0.0097 - mae: 0.0532 - val_loss: 0.0091 - val_mae: 0.0488 - learning_rate: 1.0000e-03\n",
            "Epoch 62/400\n",
            "22/22 - 2s - 102ms/step - loss: 0.0096 - mae: 0.0530 - val_loss: 0.0092 - val_mae: 0.0504 - learning_rate: 1.0000e-03\n",
            "Epoch 63/400\n",
            "22/22 - 3s - 117ms/step - loss: 0.0095 - mae: 0.0532 - val_loss: 0.0094 - val_mae: 0.0535 - learning_rate: 1.0000e-03\n",
            "Epoch 64/400\n",
            "22/22 - 2s - 90ms/step - loss: 0.0094 - mae: 0.0533 - val_loss: 0.0091 - val_mae: 0.0515 - learning_rate: 1.0000e-03\n",
            "Epoch 65/400\n",
            "22/22 - 2s - 78ms/step - loss: 0.0094 - mae: 0.0530 - val_loss: 0.0093 - val_mae: 0.0536 - learning_rate: 1.0000e-03\n",
            "Epoch 66/400\n",
            "22/22 - 2s - 76ms/step - loss: 0.0094 - mae: 0.0532 - val_loss: 0.0090 - val_mae: 0.0514 - learning_rate: 1.0000e-03\n",
            "Epoch 67/400\n",
            "22/22 - 2s - 102ms/step - loss: 0.0093 - mae: 0.0532 - val_loss: 0.0089 - val_mae: 0.0512 - learning_rate: 1.0000e-03\n",
            "Epoch 68/400\n",
            "22/22 - 2s - 77ms/step - loss: 0.0092 - mae: 0.0534 - val_loss: 0.0088 - val_mae: 0.0508 - learning_rate: 1.0000e-03\n",
            "Epoch 69/400\n",
            "22/22 - 2s - 81ms/step - loss: 0.0089 - mae: 0.0515 - val_loss: 0.0084 - val_mae: 0.0491 - learning_rate: 1.0000e-03\n",
            "Epoch 70/400\n",
            "22/22 - 2s - 84ms/step - loss: 0.0087 - mae: 0.0515 - val_loss: 0.0084 - val_mae: 0.0492 - learning_rate: 1.0000e-03\n",
            "Epoch 71/400\n",
            "22/22 - 3s - 133ms/step - loss: 0.0087 - mae: 0.0510 - val_loss: 0.0084 - val_mae: 0.0493 - learning_rate: 1.0000e-03\n",
            "Epoch 72/400\n",
            "22/22 - 3s - 115ms/step - loss: 0.0087 - mae: 0.0518 - val_loss: 0.0097 - val_mae: 0.0601 - learning_rate: 1.0000e-03\n",
            "Epoch 73/400\n",
            "22/22 - 3s - 115ms/step - loss: 0.0088 - mae: 0.0527 - val_loss: 0.0087 - val_mae: 0.0530 - learning_rate: 1.0000e-03\n",
            "Epoch 74/400\n",
            "22/22 - 2s - 101ms/step - loss: 0.0085 - mae: 0.0515 - val_loss: 0.0087 - val_mae: 0.0538 - learning_rate: 1.0000e-03\n",
            "Epoch 75/400\n",
            "22/22 - 2s - 82ms/step - loss: 0.0084 - mae: 0.0507 - val_loss: 0.0082 - val_mae: 0.0489 - learning_rate: 1.0000e-03\n",
            "Epoch 76/400\n",
            "22/22 - 2s - 110ms/step - loss: 0.0084 - mae: 0.0506 - val_loss: 0.0086 - val_mae: 0.0532 - learning_rate: 1.0000e-03\n",
            "Epoch 77/400\n",
            "22/22 - 3s - 141ms/step - loss: 0.0083 - mae: 0.0510 - val_loss: 0.0086 - val_mae: 0.0536 - learning_rate: 1.0000e-03\n",
            "Epoch 78/400\n",
            "22/22 - 3s - 115ms/step - loss: 0.0081 - mae: 0.0507 - val_loss: 0.0081 - val_mae: 0.0501 - learning_rate: 1.0000e-03\n",
            "Epoch 79/400\n",
            "22/22 - 2s - 101ms/step - loss: 0.0082 - mae: 0.0509 - val_loss: 0.0087 - val_mae: 0.0555 - learning_rate: 1.0000e-03\n",
            "Epoch 80/400\n",
            "22/22 - 2s - 82ms/step - loss: 0.0080 - mae: 0.0501 - val_loss: 0.0083 - val_mae: 0.0526 - learning_rate: 1.0000e-03\n",
            "Epoch 81/400\n",
            "22/22 - 2s - 110ms/step - loss: 0.0078 - mae: 0.0493 - val_loss: 0.0083 - val_mae: 0.0530 - learning_rate: 1.0000e-03\n",
            "Epoch 82/400\n",
            "22/22 - 3s - 116ms/step - loss: 0.0079 - mae: 0.0502 - val_loss: 0.0087 - val_mae: 0.0561 - learning_rate: 1.0000e-03\n",
            "Epoch 83/400\n",
            "22/22 - 3s - 116ms/step - loss: 0.0078 - mae: 0.0491 - val_loss: 0.0078 - val_mae: 0.0496 - learning_rate: 1.0000e-03\n",
            "Epoch 84/400\n",
            "22/22 - 3s - 143ms/step - loss: 0.0079 - mae: 0.0505 - val_loss: 0.0082 - val_mae: 0.0535 - learning_rate: 1.0000e-03\n",
            "Epoch 85/400\n",
            "22/22 - 2s - 88ms/step - loss: 0.0077 - mae: 0.0496 - val_loss: 0.0078 - val_mae: 0.0505 - learning_rate: 1.0000e-03\n",
            "Epoch 86/400\n",
            "22/22 - 2s - 102ms/step - loss: 0.0078 - mae: 0.0498 - val_loss: 0.0075 - val_mae: 0.0482 - learning_rate: 1.0000e-03\n",
            "Epoch 87/400\n",
            "22/22 - 2s - 77ms/step - loss: 0.0076 - mae: 0.0499 - val_loss: 0.0076 - val_mae: 0.0498 - learning_rate: 1.0000e-03\n",
            "Epoch 88/400\n",
            "22/22 - 2s - 102ms/step - loss: 0.0077 - mae: 0.0503 - val_loss: 0.0084 - val_mae: 0.0560 - learning_rate: 1.0000e-03\n",
            "Epoch 89/400\n",
            "22/22 - 2s - 77ms/step - loss: 0.0074 - mae: 0.0491 - val_loss: 0.0075 - val_mae: 0.0502 - learning_rate: 1.0000e-03\n",
            "Epoch 90/400\n",
            "22/22 - 3s - 123ms/step - loss: 0.0074 - mae: 0.0487 - val_loss: 0.0078 - val_mae: 0.0534 - learning_rate: 1.0000e-03\n",
            "Epoch 91/400\n",
            "22/22 - 2s - 77ms/step - loss: 0.0073 - mae: 0.0484 - val_loss: 0.0083 - val_mae: 0.0561 - learning_rate: 1.0000e-03\n",
            "Epoch 92/400\n",
            "22/22 - 3s - 116ms/step - loss: 0.0073 - mae: 0.0487 - val_loss: 0.0079 - val_mae: 0.0534 - learning_rate: 1.0000e-03\n",
            "Epoch 93/400\n",
            "22/22 - 3s - 140ms/step - loss: 0.0071 - mae: 0.0483 - val_loss: 0.0078 - val_mae: 0.0531 - learning_rate: 1.0000e-03\n",
            "Epoch 94/400\n",
            "\n",
            "Epoch 94: ReduceLROnPlateau reducing learning rate to 0.0005000000237487257.\n",
            "22/22 - 2s - 102ms/step - loss: 0.0071 - mae: 0.0482 - val_loss: 0.0077 - val_mae: 0.0525 - learning_rate: 1.0000e-03\n",
            "Epoch 95/400\n",
            "22/22 - 2s - 98ms/step - loss: 0.0069 - mae: 0.0474 - val_loss: 0.0071 - val_mae: 0.0480 - learning_rate: 5.0000e-04\n",
            "Epoch 96/400\n",
            "22/22 - 2s - 107ms/step - loss: 0.0072 - mae: 0.0482 - val_loss: 0.0070 - val_mae: 0.0481 - learning_rate: 5.0000e-04\n",
            "Epoch 97/400\n",
            "22/22 - 2s - 77ms/step - loss: 0.0069 - mae: 0.0470 - val_loss: 0.0073 - val_mae: 0.0500 - learning_rate: 5.0000e-04\n",
            "Epoch 98/400\n",
            "22/22 - 2s - 77ms/step - loss: 0.0068 - mae: 0.0474 - val_loss: 0.0072 - val_mae: 0.0499 - learning_rate: 5.0000e-04\n",
            "Epoch 99/400\n",
            "22/22 - 3s - 116ms/step - loss: 0.0068 - mae: 0.0470 - val_loss: 0.0071 - val_mae: 0.0489 - learning_rate: 5.0000e-04\n",
            "Epoch 100/400\n",
            "22/22 - 5s - 235ms/step - loss: 0.0068 - mae: 0.0475 - val_loss: 0.0073 - val_mae: 0.0516 - learning_rate: 5.0000e-04\n",
            "Epoch 101/400\n",
            "22/22 - 2s - 88ms/step - loss: 0.0068 - mae: 0.0467 - val_loss: 0.0075 - val_mae: 0.0524 - learning_rate: 5.0000e-04\n",
            "Epoch 102/400\n",
            "22/22 - 2s - 107ms/step - loss: 0.0067 - mae: 0.0470 - val_loss: 0.0071 - val_mae: 0.0498 - learning_rate: 5.0000e-04\n",
            "Epoch 103/400\n",
            "22/22 - 2s - 77ms/step - loss: 0.0068 - mae: 0.0478 - val_loss: 0.0068 - val_mae: 0.0478 - learning_rate: 5.0000e-04\n",
            "Epoch 104/400\n",
            "22/22 - 2s - 77ms/step - loss: 0.0068 - mae: 0.0477 - val_loss: 0.0070 - val_mae: 0.0485 - learning_rate: 5.0000e-04\n",
            "Epoch 105/400\n",
            "22/22 - 2s - 104ms/step - loss: 0.0067 - mae: 0.0470 - val_loss: 0.0067 - val_mae: 0.0472 - learning_rate: 5.0000e-04\n",
            "Epoch 106/400\n",
            "22/22 - 2s - 79ms/step - loss: 0.0065 - mae: 0.0464 - val_loss: 0.0067 - val_mae: 0.0475 - learning_rate: 5.0000e-04\n",
            "Epoch 107/400\n",
            "22/22 - 2s - 102ms/step - loss: 0.0065 - mae: 0.0465 - val_loss: 0.0069 - val_mae: 0.0493 - learning_rate: 5.0000e-04\n",
            "Epoch 108/400\n",
            "22/22 - 2s - 91ms/step - loss: 0.0067 - mae: 0.0473 - val_loss: 0.0068 - val_mae: 0.0476 - learning_rate: 5.0000e-04\n",
            "Epoch 109/400\n",
            "22/22 - 3s - 140ms/step - loss: 0.0067 - mae: 0.0472 - val_loss: 0.0066 - val_mae: 0.0463 - learning_rate: 5.0000e-04\n",
            "Epoch 110/400\n",
            "22/22 - 2s - 95ms/step - loss: 0.0066 - mae: 0.0473 - val_loss: 0.0068 - val_mae: 0.0483 - learning_rate: 5.0000e-04\n",
            "Epoch 111/400\n",
            "22/22 - 3s - 135ms/step - loss: 0.0065 - mae: 0.0463 - val_loss: 0.0066 - val_mae: 0.0469 - learning_rate: 5.0000e-04\n",
            "Epoch 112/400\n",
            "22/22 - 3s - 115ms/step - loss: 0.0067 - mae: 0.0473 - val_loss: 0.0068 - val_mae: 0.0491 - learning_rate: 5.0000e-04\n",
            "Epoch 113/400\n",
            "22/22 - 3s - 115ms/step - loss: 0.0065 - mae: 0.0468 - val_loss: 0.0066 - val_mae: 0.0474 - learning_rate: 5.0000e-04\n",
            "Epoch 114/400\n",
            "22/22 - 2s - 91ms/step - loss: 0.0064 - mae: 0.0464 - val_loss: 0.0070 - val_mae: 0.0502 - learning_rate: 5.0000e-04\n",
            "Epoch 115/400\n",
            "22/22 - 3s - 144ms/step - loss: 0.0066 - mae: 0.0475 - val_loss: 0.0068 - val_mae: 0.0486 - learning_rate: 5.0000e-04\n",
            "Epoch 116/400\n",
            "22/22 - 2s - 111ms/step - loss: 0.0063 - mae: 0.0461 - val_loss: 0.0070 - val_mae: 0.0514 - learning_rate: 5.0000e-04\n",
            "Epoch 117/400\n",
            "\n",
            "Epoch 117: ReduceLROnPlateau reducing learning rate to 0.0002500000118743628.\n",
            "22/22 - 3s - 115ms/step - loss: 0.0064 - mae: 0.0458 - val_loss: 0.0069 - val_mae: 0.0500 - learning_rate: 5.0000e-04\n",
            "Epoch 118/400\n",
            "22/22 - 2s - 102ms/step - loss: 0.0063 - mae: 0.0461 - val_loss: 0.0064 - val_mae: 0.0467 - learning_rate: 2.5000e-04\n",
            "Epoch 119/400\n",
            "22/22 - 2s - 102ms/step - loss: 0.0062 - mae: 0.0457 - val_loss: 0.0066 - val_mae: 0.0474 - learning_rate: 2.5000e-04\n",
            "Epoch 120/400\n",
            "22/22 - 2s - 85ms/step - loss: 0.0061 - mae: 0.0450 - val_loss: 0.0064 - val_mae: 0.0469 - learning_rate: 2.5000e-04\n",
            "Epoch 121/400\n",
            "22/22 - 2s - 107ms/step - loss: 0.0062 - mae: 0.0458 - val_loss: 0.0066 - val_mae: 0.0475 - learning_rate: 2.5000e-04\n",
            "Epoch 122/400\n",
            "22/22 - 3s - 116ms/step - loss: 0.0061 - mae: 0.0456 - val_loss: 0.0064 - val_mae: 0.0461 - learning_rate: 2.5000e-04\n",
            "Epoch 123/400\n",
            "22/22 - 3s - 139ms/step - loss: 0.0061 - mae: 0.0449 - val_loss: 0.0063 - val_mae: 0.0461 - learning_rate: 2.5000e-04\n",
            "Epoch 124/400\n",
            "22/22 - 2s - 102ms/step - loss: 0.0062 - mae: 0.0453 - val_loss: 0.0065 - val_mae: 0.0480 - learning_rate: 2.5000e-04\n",
            "Epoch 125/400\n",
            "22/22 - 3s - 120ms/step - loss: 0.0061 - mae: 0.0453 - val_loss: 0.0063 - val_mae: 0.0461 - learning_rate: 2.5000e-04\n",
            "Epoch 126/400\n",
            "\n",
            "Epoch 126: ReduceLROnPlateau reducing learning rate to 0.0001250000059371814.\n",
            "22/22 - 2s - 77ms/step - loss: 0.0060 - mae: 0.0448 - val_loss: 0.0064 - val_mae: 0.0464 - learning_rate: 2.5000e-04\n",
            "Epoch 127/400\n",
            "22/22 - 2s - 78ms/step - loss: 0.0061 - mae: 0.0451 - val_loss: 0.0064 - val_mae: 0.0467 - learning_rate: 1.2500e-04\n",
            "Epoch 128/400\n",
            "22/22 - 3s - 115ms/step - loss: 0.0060 - mae: 0.0448 - val_loss: 0.0065 - val_mae: 0.0475 - learning_rate: 1.2500e-04\n",
            "Epoch 129/400\n",
            "22/22 - 3s - 115ms/step - loss: 0.0058 - mae: 0.0437 - val_loss: 0.0064 - val_mae: 0.0468 - learning_rate: 1.2500e-04\n",
            "Epoch 130/400\n",
            "22/22 - 2s - 103ms/step - loss: 0.0060 - mae: 0.0446 - val_loss: 0.0064 - val_mae: 0.0470 - learning_rate: 1.2500e-04\n",
            "Epoch 131/400\n",
            "22/22 - 2s - 81ms/step - loss: 0.0059 - mae: 0.0445 - val_loss: 0.0064 - val_mae: 0.0468 - learning_rate: 1.2500e-04\n",
            "Epoch 132/400\n",
            "22/22 - 2s - 112ms/step - loss: 0.0060 - mae: 0.0444 - val_loss: 0.0066 - val_mae: 0.0484 - learning_rate: 1.2500e-04\n",
            "Epoch 133/400\n",
            "22/22 - 2s - 102ms/step - loss: 0.0059 - mae: 0.0442 - val_loss: 0.0064 - val_mae: 0.0468 - learning_rate: 1.2500e-04\n",
            "Epoch 134/400\n",
            "\n",
            "Epoch 134: ReduceLROnPlateau reducing learning rate to 6.25000029685907e-05.\n",
            "22/22 - 2s - 103ms/step - loss: 0.0060 - mae: 0.0447 - val_loss: 0.0064 - val_mae: 0.0474 - learning_rate: 1.2500e-04\n",
            "Epoch 135/400\n",
            "22/22 - 2s - 101ms/step - loss: 0.0059 - mae: 0.0438 - val_loss: 0.0064 - val_mae: 0.0469 - learning_rate: 6.2500e-05\n",
            "Epoch 136/400\n",
            "22/22 - 2s - 107ms/step - loss: 0.0059 - mae: 0.0445 - val_loss: 0.0064 - val_mae: 0.0469 - learning_rate: 6.2500e-05\n",
            "Epoch 137/400\n",
            "22/22 - 2s - 86ms/step - loss: 0.0059 - mae: 0.0439 - val_loss: 0.0063 - val_mae: 0.0466 - learning_rate: 6.2500e-05\n",
            "Epoch 138/400\n",
            "22/22 - 2s - 76ms/step - loss: 0.0059 - mae: 0.0443 - val_loss: 0.0064 - val_mae: 0.0470 - learning_rate: 6.2500e-05\n",
            "Epoch 139/400\n",
            "22/22 - 2s - 102ms/step - loss: 0.0058 - mae: 0.0441 - val_loss: 0.0064 - val_mae: 0.0473 - learning_rate: 6.2500e-05\n",
            "Epoch 140/400\n",
            "22/22 - 2s - 77ms/step - loss: 0.0060 - mae: 0.0447 - val_loss: 0.0064 - val_mae: 0.0471 - learning_rate: 6.2500e-05\n",
            "Epoch 141/400\n",
            "22/22 - 2s - 101ms/step - loss: 0.0057 - mae: 0.0436 - val_loss: 0.0064 - val_mae: 0.0470 - learning_rate: 6.2500e-05\n",
            "Epoch 142/400\n",
            "\n",
            "Epoch 142: ReduceLROnPlateau reducing learning rate to 3.125000148429535e-05.\n",
            "22/22 - 2s - 93ms/step - loss: 0.0059 - mae: 0.0443 - val_loss: 0.0063 - val_mae: 0.0469 - learning_rate: 6.2500e-05\n",
            "Epoch 143/400\n",
            "22/22 - 2s - 113ms/step - loss: 0.0058 - mae: 0.0437 - val_loss: 0.0063 - val_mae: 0.0467 - learning_rate: 3.1250e-05\n",
            "Epoch 144/400\n",
            "22/22 - 2s - 101ms/step - loss: 0.0059 - mae: 0.0440 - val_loss: 0.0063 - val_mae: 0.0469 - learning_rate: 3.1250e-05\n",
            "Epoch 145/400\n",
            "22/22 - 2s - 91ms/step - loss: 0.0059 - mae: 0.0441 - val_loss: 0.0063 - val_mae: 0.0466 - learning_rate: 3.1250e-05\n",
            "Epoch 146/400\n",
            "22/22 - 2s - 102ms/step - loss: 0.0059 - mae: 0.0444 - val_loss: 0.0063 - val_mae: 0.0465 - learning_rate: 3.1250e-05\n",
            "Epoch 147/400\n",
            "22/22 - 2s - 99ms/step - loss: 0.0058 - mae: 0.0435 - val_loss: 0.0063 - val_mae: 0.0469 - learning_rate: 3.1250e-05\n",
            "Epoch 148/400\n",
            "22/22 - 2s - 111ms/step - loss: 0.0058 - mae: 0.0432 - val_loss: 0.0063 - val_mae: 0.0468 - learning_rate: 3.1250e-05\n",
            "Epoch 149/400\n",
            "22/22 - 2s - 101ms/step - loss: 0.0060 - mae: 0.0446 - val_loss: 0.0063 - val_mae: 0.0467 - learning_rate: 3.1250e-05\n",
            "Epoch 150/400\n",
            "\n",
            "Epoch 150: ReduceLROnPlateau reducing learning rate to 1.5625000742147677e-05.\n",
            "22/22 - 2s - 91ms/step - loss: 0.0058 - mae: 0.0441 - val_loss: 0.0063 - val_mae: 0.0468 - learning_rate: 3.1250e-05\n",
            "Epoch 151/400\n",
            "22/22 - 2s - 77ms/step - loss: 0.0057 - mae: 0.0432 - val_loss: 0.0063 - val_mae: 0.0469 - learning_rate: 1.5625e-05\n",
            "Epoch 152/400\n",
            "22/22 - 2s - 102ms/step - loss: 0.0059 - mae: 0.0440 - val_loss: 0.0063 - val_mae: 0.0468 - learning_rate: 1.5625e-05\n",
            "Epoch 153/400\n",
            "22/22 - 2s - 92ms/step - loss: 0.0058 - mae: 0.0434 - val_loss: 0.0063 - val_mae: 0.0467 - learning_rate: 1.5625e-05\n",
            "Epoch 154/400\n",
            "22/22 - 2s - 101ms/step - loss: 0.0060 - mae: 0.0451 - val_loss: 0.0063 - val_mae: 0.0467 - learning_rate: 1.5625e-05\n",
            "Epoch 155/400\n",
            "22/22 - 2s - 102ms/step - loss: 0.0058 - mae: 0.0430 - val_loss: 0.0063 - val_mae: 0.0467 - learning_rate: 1.5625e-05\n",
            "Epoch 156/400\n",
            "22/22 - 2s - 91ms/step - loss: 0.0058 - mae: 0.0444 - val_loss: 0.0063 - val_mae: 0.0471 - learning_rate: 1.5625e-05\n",
            "Epoch 157/400\n",
            "22/22 - 2s - 101ms/step - loss: 0.0059 - mae: 0.0441 - val_loss: 0.0063 - val_mae: 0.0468 - learning_rate: 1.5625e-05\n",
            "Epoch 158/400\n",
            "\n",
            "Epoch 158: ReduceLROnPlateau reducing learning rate to 1e-05.\n",
            "22/22 - 3s - 120ms/step - loss: 0.0059 - mae: 0.0444 - val_loss: 0.0064 - val_mae: 0.0472 - learning_rate: 1.5625e-05\n",
            "Epoch 159/400\n",
            "22/22 - 2s - 111ms/step - loss: 0.0057 - mae: 0.0432 - val_loss: 0.0064 - val_mae: 0.0471 - learning_rate: 1.0000e-05\n",
            "Epoch 160/400\n",
            "22/22 - 2s - 101ms/step - loss: 0.0059 - mae: 0.0444 - val_loss: 0.0063 - val_mae: 0.0469 - learning_rate: 1.0000e-05\n",
            "Epoch 161/400\n",
            "22/22 - 2s - 101ms/step - loss: 0.0059 - mae: 0.0442 - val_loss: 0.0064 - val_mae: 0.0472 - learning_rate: 1.0000e-05\n",
            "Epoch 162/400\n",
            "22/22 - 2s - 90ms/step - loss: 0.0057 - mae: 0.0431 - val_loss: 0.0064 - val_mae: 0.0471 - learning_rate: 1.0000e-05\n",
            "Epoch 163/400\n",
            "22/22 - 3s - 121ms/step - loss: 0.0059 - mae: 0.0442 - val_loss: 0.0063 - val_mae: 0.0470 - learning_rate: 1.0000e-05\n",
            "Epoch 164/400\n",
            "22/22 - 2s - 110ms/step - loss: 0.0057 - mae: 0.0433 - val_loss: 0.0063 - val_mae: 0.0470 - learning_rate: 1.0000e-05\n",
            "Epoch 165/400\n",
            "22/22 - 2s - 101ms/step - loss: 0.0057 - mae: 0.0435 - val_loss: 0.0063 - val_mae: 0.0471 - learning_rate: 1.0000e-05\n",
            "Epoch 166/400\n",
            "22/22 - 3s - 115ms/step - loss: 0.0057 - mae: 0.0432 - val_loss: 0.0063 - val_mae: 0.0469 - learning_rate: 1.0000e-05\n",
            "Epoch 167/400\n",
            "22/22 - 2s - 102ms/step - loss: 0.0059 - mae: 0.0435 - val_loss: 0.0063 - val_mae: 0.0471 - learning_rate: 1.0000e-05\n",
            "Epoch 168/400\n",
            "22/22 - 3s - 120ms/step - loss: 0.0058 - mae: 0.0440 - val_loss: 0.0063 - val_mae: 0.0468 - learning_rate: 1.0000e-05\n",
            "Epoch 169/400\n",
            "22/22 - 2s - 77ms/step - loss: 0.0058 - mae: 0.0436 - val_loss: 0.0063 - val_mae: 0.0468 - learning_rate: 1.0000e-05\n",
            "Epoch 170/400\n",
            "22/22 - 3s - 140ms/step - loss: 0.0057 - mae: 0.0437 - val_loss: 0.0063 - val_mae: 0.0469 - learning_rate: 1.0000e-05\n",
            "Epoch 171/400\n",
            "22/22 - 3s - 115ms/step - loss: 0.0059 - mae: 0.0436 - val_loss: 0.0063 - val_mae: 0.0468 - learning_rate: 1.0000e-05\n",
            "Epoch 172/400\n",
            "22/22 - 3s - 115ms/step - loss: 0.0058 - mae: 0.0436 - val_loss: 0.0063 - val_mae: 0.0469 - learning_rate: 1.0000e-05\n",
            "Epoch 173/400\n",
            "22/22 - 2s - 105ms/step - loss: 0.0058 - mae: 0.0435 - val_loss: 0.0063 - val_mae: 0.0470 - learning_rate: 1.0000e-05\n",
            "Epoch 174/400\n",
            "22/22 - 2s - 102ms/step - loss: 0.0058 - mae: 0.0435 - val_loss: 0.0063 - val_mae: 0.0472 - learning_rate: 1.0000e-05\n",
            "Epoch 175/400\n",
            "22/22 - 3s - 115ms/step - loss: 0.0059 - mae: 0.0441 - val_loss: 0.0063 - val_mae: 0.0469 - learning_rate: 1.0000e-05\n",
            "Tiempo de entrenamiento: 401.05 segundos\n"
          ]
        }
      ]
    },
    {
      "cell_type": "markdown",
      "id": "2a5878d9",
      "metadata": {
        "id": "2a5878d9"
      },
      "source": [
        "---"
      ]
    },
    {
      "cell_type": "markdown",
      "id": "b85dda6b",
      "metadata": {
        "id": "b85dda6b"
      },
      "source": [
        "#### **Predicción**"
      ]
    },
    {
      "cell_type": "markdown",
      "id": "be775a60",
      "metadata": {
        "id": "be775a60"
      },
      "source": [
        "A un paso"
      ]
    },
    {
      "cell_type": "code",
      "execution_count": null,
      "id": "97874192",
      "metadata": {
        "colab": {
          "base_uri": "https://localhost:8080/",
          "height": 407
        },
        "id": "97874192",
        "outputId": "8b9543de-1ceb-43c8-c710-0161b8e5e72c"
      },
      "outputs": [
        {
          "output_type": "display_data",
          "data": {
            "text/plain": [
              "<Figure size 1200x400 with 1 Axes>"
            ],
            "image/png": "[encoded data removed]"
          },
          "metadata": {}
        }
      ],
      "source": [
        "# =========================\n",
        "# PRONÓSTICO A 1 PASO — One-step\n",
        "# =========================\n",
        "# Fundamento:\n",
        "# - Para cada instante del set de validación/test, tomamos la secuencia de 1008 pasos (target+exógenas normalizados).\n",
        "# - El LSTM devuelve y_hat(t+1) (escala normalizada). No hay retroalimentación de predicciones en one-step.\n",
        "\n",
        "# Predicciones (normalizado) → vector 1D\n",
        "y_pred_val_lstm = lstm.predict(Xva, batch_size=512, verbose=0).reshape(-1)\n",
        "y_pred_te_lstm  = lstm.predict(Xte, batch_size=512, verbose=0).reshape(-1)\n",
        "\n",
        "# Invertimos la escala para obtener métricas interpretables\n",
        "y_val_inv_lstm      = inverse_target(yva, scalers)\n",
        "y_pred_val_inv_lstm = inverse_target(y_pred_val_lstm, scalers)\n",
        "y_te_inv_lstm       = inverse_target(yte, scalers)\n",
        "y_pred_te_inv_lstm  = inverse_target(y_pred_te_lstm, scalers)\n",
        "\n",
        "# Tramo temporal para graficar en TEST (opcional)\n",
        "start = HISTORY_WINDOW + SHIFT_ONE_STEP - 1\n",
        "idx_seg = test_df.index[start : start + len(y_te_inv_lstm)]\n",
        "\n",
        "plot_segment(idx_seg[:800], y_te_inv_lstm[:800], y_pred_te_inv_lstm[:800],\n",
        "             title=\"LSTM — One-step (+10 min)\", target_name=TARGET_COL)"
      ]
    },
    {
      "cell_type": "markdown",
      "id": "98ab5ee0",
      "metadata": {
        "id": "98ab5ee0"
      },
      "source": [
        "A múltiples pasos"
      ]
    },
    {
      "cell_type": "code",
      "execution_count": null,
      "id": "056f13e0",
      "metadata": {
        "colab": {
          "base_uri": "https://localhost:8080/",
          "height": 407
        },
        "id": "056f13e0",
        "outputId": "c7bf56c0-f574-4aa9-ab67-f0107a91f3bb"
      },
      "outputs": [
        {
          "output_type": "display_data",
          "data": {
            "text/plain": [
              "<Figure size 1200x400 with 1 Axes>"
            ],
            "image/png": "[encoded data removed]"
          },
          "metadata": {}
        }
      ],
      "source": [
        "# ==============================================\n",
        "# PRONÓSTICO A MÚLTIPLES PASOS — Recursive (3h)\n",
        "# ==============================================\n",
        "# Fundamento:\n",
        "# - Autoregresivo: usar la predicción y_hat(t+1) como nuevo último lag para predecir t+2, etc.\n",
        "# - Exógenas: por defecto estrategia HOLD (se mantienen fijas); si tienes pronósticos exógenos,\n",
        "#   pásalos normalizados para reducir degradación (exog_future).\n",
        "# - Para LSTM el input debe ser 3D: (1, HISTORY_WINDOW, F) en cada iteración.\n",
        "\n",
        "def recursive_forecast_seq(\n",
        "    model: keras.Model,\n",
        "    seed_window: np.ndarray,           # (HISTORY_WINDOW, F) normalizado; orden: EXOG_COLS + [TARGET_COL]\n",
        "    steps: int,\n",
        "    exog_future: np.ndarray | None = None  # opcional: (steps, len(EXOG_COLS)) en escala normalizada\n",
        ") -> np.ndarray:\n",
        "    hist = seed_window.astype(\"float32\").copy()\n",
        "    preds = []\n",
        "    for i in range(steps):\n",
        "        x = hist[np.newaxis, :, :]                 # (1, H, F)\n",
        "        y_hat = model.predict(x, verbose=0)[0, 0]  # escalar normalizado\n",
        "        preds.append(y_hat)\n",
        "        # Construimos la siguiente fila: exógenas hold o exog_future, target = y_hat\n",
        "        next_row = hist[-1].copy()\n",
        "        if exog_future is not None:\n",
        "            next_row[:-1] = exog_future[i]        # reemplaza TODAS las exógenas\n",
        "        # actualizar el target con la predicción\n",
        "        next_row[-1] = y_hat\n",
        "        # desplazar ventana\n",
        "        hist = np.vstack([hist[1:], next_row])\n",
        "    return np.array(preds, dtype=\"float32\")\n",
        "\n",
        "STEPS = 18  # 3 horas (18 * 10 min)\n",
        "feats_order = EXOG_COLS + [TARGET_COL]\n",
        "\n",
        "# Elegimos semilla en TEST dejando espacio para 'STEPS' futuros\n",
        "seed_start = max(0, len(test_n) - (HISTORY_WINDOW + STEPS))\n",
        "seed_end   = seed_start + HISTORY_WINDOW\n",
        "seed_win   = test_n[feats_order].values[seed_start:seed_end]  # (H, F) normalizado\n",
        "\n",
        "# Predicción recursiva (normalizada) y desnormalización\n",
        "y_pred_rec_norm_lstm = recursive_forecast_seq(lstm, seed_win, STEPS, exog_future=None)\n",
        "y_pred_rec_lstm      = inverse_target(y_pred_rec_norm_lstm, scalers)\n",
        "\n",
        "# Verdaderos y eje temporal para evaluación homogénea\n",
        "true_start = seed_end\n",
        "true_end   = seed_end + STEPS\n",
        "y_true_rec = test_df[TARGET_COL].values[true_start:true_end]\n",
        "idx_future = test_df.index[true_start:true_end]\n",
        "\n",
        "plot_segment(idx_future, y_true_rec, y_pred_rec_lstm,\n",
        "             title=\"LSTM — Recursive (+3h)\", target_name=TARGET_COL)\n"
      ]
    },
    {
      "cell_type": "markdown",
      "id": "e08215e4",
      "metadata": {
        "id": "e08215e4"
      },
      "source": [
        "---"
      ]
    },
    {
      "cell_type": "markdown",
      "source": [
        "#### **Evaluación**"
      ],
      "metadata": {
        "id": "bPlmimCvdKZx"
      },
      "id": "bPlmimCvdKZx"
    },
    {
      "cell_type": "code",
      "source": [
        "# =========================\n",
        "# EVALUACIÓN — sMAPE / WAPE\n",
        "# =========================\n",
        "# Consideraciones:\n",
        "# - Métricas en escala original (post-inversión) para lectura de negocio.\n",
        "# - One-step (val/test) y recursive (test).\n",
        "\n",
        "# One-step\n",
        "smape_val_lstm = smape(y_val_inv_lstm, y_pred_val_inv_lstm)\n",
        "wape_val_lstm  = wape(y_val_inv_lstm, y_pred_val_inv_lstm)\n",
        "smape_te_lstm  = smape(y_te_inv_lstm,  y_pred_te_inv_lstm)\n",
        "wape_te_lstm   = wape(y_te_inv_lstm,   y_pred_te_inv_lstm)\n",
        "\n",
        "print(f\"[LSTM] ONE-STEP → VAL  sMAPE: {smape_val_lstm:.3f}% | WAPE: {wape_val_lstm:.3f}%\")\n",
        "print(f\"[LSTM] ONE-STEP → TEST sMAPE: {smape_te_lstm:.3f}% | WAPE: {wape_te_lstm:.3f}%\")\n",
        "\n",
        "# Recursive (+3h)\n",
        "smape_rec_lstm = smape(y_true_rec, y_pred_rec_lstm)\n",
        "wape_rec_lstm  = wape(y_true_rec, y_pred_rec_lstm)\n",
        "print(f\"[LSTM] RECURSIVE (3h) → TEST sMAPE: {smape_rec_lstm:.3f}% | WAPE: {wape_rec_lstm:.3f}%\")\n",
        "print(f\"[LSTM] Training time: {training_time:.2f} segundos\")"
      ],
      "metadata": {
        "colab": {
          "base_uri": "https://localhost:8080/"
        },
        "id": "nyuOsMASdMkh",
        "outputId": "901e1851-956d-496c-e10e-14ab24b8a58c"
      },
      "id": "nyuOsMASdMkh",
      "execution_count": null,
      "outputs": [
        {
          "output_type": "stream",
          "name": "stdout",
          "text": [
            "[LSTM] ONE-STEP → VAL  sMAPE: 1.082% | WAPE: 1.052%\n",
            "[LSTM] ONE-STEP → TEST sMAPE: 1.272% | WAPE: 1.232%\n",
            "[LSTM] RECURSIVE (3h) → TEST sMAPE: 4.861% | WAPE: 4.514%\n",
            "[LSTM] Training time: 401.05 segundos\n"
          ]
        }
      ]
    },
    {
      "cell_type": "markdown",
      "id": "45cc6a87",
      "metadata": {
        "id": "45cc6a87"
      },
      "source": [
        "---"
      ]
    },
    {
      "cell_type": "markdown",
      "source": [
        "#### Referencias:\n",
        "- Hochreiter & Schmidhuber (1997), *Long Short-Term Memory* (paper original). ([bioinf](https://www.bioinf.jku.at/publications/older/2604.pdf))\n",
        "- Greff et al. (2017), *LSTM: A Search Space Odyssey* (revisión sistemática de variantes). ([arxiv](https://arxiv.org/abs/1503.04069))\n",
        "- Keras — `LSTM` (API y detalles de implementación). ([keras.io](https://keras.io/api/layers/recurrent_layers/lstm/))"
      ],
      "metadata": {
        "id": "d4XVLZzTCByo"
      },
      "id": "d4XVLZzTCByo"
    }
  ],
  "metadata": {
    "kernelspec": {
      "display_name": "Python 3",
      "name": "python3"
    },
    "language_info": {
      "name": "python",
      "version": "3.12.0"
    },
    "colab": {
      "provenance": [],
      "toc_visible": true,
      "gpuType": "T4",
      "include_colab_link": true
    },
    "accelerator": "GPU"
  },
  "nbformat": 4,
  "nbformat_minor": 5
}