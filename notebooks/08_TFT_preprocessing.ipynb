{
 "cells": [
  {
   "cell_type": "markdown",
   "id": "e0d5c7bc",
   "metadata": {},
   "source": [
    "### Entrenamiento, Predicción y Evaluación de un modelo LSTM"
   ]
  },
  {
   "cell_type": "markdown",
   "id": "d7fc2f8a",
   "metadata": {},
   "source": [
    "#### **Importación de Datos**"
   ]
  },
  {
   "cell_type": "code",
   "execution_count": 17,
   "id": "44ff1d8a",
   "metadata": {},
   "outputs": [],
   "source": [
    "import requests\n",
    "import pandas as pd\n",
    "import numpy as np\n",
    "from io import BytesIO"
   ]
  },
  {
   "cell_type": "code",
   "execution_count": 18,
   "id": "2bfe1907",
   "metadata": {},
   "outputs": [
    {
     "name": "stdout",
     "output_type": "stream",
     "text": [
      "\n",
      "Frecuencia aproximada: 0 days 00:10:00\n",
      "Filas totales: 52416\n"
     ]
    }
   ],
   "source": [
    "# Importar datos\n",
    "DATA_GITHUB_URL = 'https://raw.githubusercontent.com/DCajiao/Time-series-forecast-of-energy-consumption-in-Tetouan-City/refs/heads/main/data/zone1_power_consumption_of_tetouan_city.csv'\n",
    "\n",
    "# Descargar los datos desde github\n",
    "response = requests.get(DATA_GITHUB_URL)\n",
    "\n",
    "# Convertir en un df desde el xlsx de github\n",
    "df = pd.read_csv(BytesIO(response.content), sep=',')\n",
    "\n",
    "df[\"datetime\"] = pd.to_datetime(df[\"datetime\"], errors=\"coerce\")\n",
    "df = df.set_index(\"datetime\")\n",
    "\n",
    "# Validaciones mínimas\n",
    "expected_cols = {\"temperature\",\"humidity\",\"general_diffuse_flows\",\"zone_1\"}\n",
    "missing = expected_cols - set(df.columns)\n",
    "if missing:\n",
    "    raise ValueError(f\"Faltan columnas en el dataset: {missing}. \"\n",
    "                     f\"Columnas disponibles: {df.columns.tolist()}\")\n",
    "\n",
    "print(\"\\nFrecuencia aproximada:\", (df.index.to_series().diff().mode().iloc[0]))\n",
    "print(\"Filas totales:\", len(df))"
   ]
  },
  {
   "cell_type": "code",
   "execution_count": 19,
   "id": "c2f33594",
   "metadata": {},
   "outputs": [
    {
     "data": {
      "text/html": [
       "<div>\n",
       "<style scoped>\n",
       "    .dataframe tbody tr th:only-of-type {\n",
       "        vertical-align: middle;\n",
       "    }\n",
       "\n",
       "    .dataframe tbody tr th {\n",
       "        vertical-align: top;\n",
       "    }\n",
       "\n",
       "    .dataframe thead th {\n",
       "        text-align: right;\n",
       "    }\n",
       "</style>\n",
       "<table border=\"1\" class=\"dataframe\">\n",
       "  <thead>\n",
       "    <tr style=\"text-align: right;\">\n",
       "      <th></th>\n",
       "      <th>temperature</th>\n",
       "      <th>humidity</th>\n",
       "      <th>wind_speed</th>\n",
       "      <th>general_diffuse_flows</th>\n",
       "      <th>zone_1</th>\n",
       "    </tr>\n",
       "    <tr>\n",
       "      <th>datetime</th>\n",
       "      <th></th>\n",
       "      <th></th>\n",
       "      <th></th>\n",
       "      <th></th>\n",
       "      <th></th>\n",
       "    </tr>\n",
       "  </thead>\n",
       "  <tbody>\n",
       "    <tr>\n",
       "      <th>2017-01-01 00:00:00</th>\n",
       "      <td>6.559</td>\n",
       "      <td>73.8</td>\n",
       "      <td>0.083</td>\n",
       "      <td>0.051</td>\n",
       "      <td>34055.69620</td>\n",
       "    </tr>\n",
       "    <tr>\n",
       "      <th>2017-01-01 00:10:00</th>\n",
       "      <td>6.414</td>\n",
       "      <td>74.5</td>\n",
       "      <td>0.083</td>\n",
       "      <td>0.070</td>\n",
       "      <td>29814.68354</td>\n",
       "    </tr>\n",
       "    <tr>\n",
       "      <th>2017-01-01 00:20:00</th>\n",
       "      <td>6.313</td>\n",
       "      <td>74.5</td>\n",
       "      <td>0.080</td>\n",
       "      <td>0.062</td>\n",
       "      <td>29128.10127</td>\n",
       "    </tr>\n",
       "    <tr>\n",
       "      <th>2017-01-01 00:30:00</th>\n",
       "      <td>6.121</td>\n",
       "      <td>75.0</td>\n",
       "      <td>0.083</td>\n",
       "      <td>0.091</td>\n",
       "      <td>28228.86076</td>\n",
       "    </tr>\n",
       "    <tr>\n",
       "      <th>2017-01-01 00:40:00</th>\n",
       "      <td>5.921</td>\n",
       "      <td>75.7</td>\n",
       "      <td>0.081</td>\n",
       "      <td>0.048</td>\n",
       "      <td>27335.69620</td>\n",
       "    </tr>\n",
       "    <tr>\n",
       "      <th>...</th>\n",
       "      <td>...</td>\n",
       "      <td>...</td>\n",
       "      <td>...</td>\n",
       "      <td>...</td>\n",
       "      <td>...</td>\n",
       "    </tr>\n",
       "    <tr>\n",
       "      <th>2017-12-30 23:10:00</th>\n",
       "      <td>7.010</td>\n",
       "      <td>72.4</td>\n",
       "      <td>0.080</td>\n",
       "      <td>0.040</td>\n",
       "      <td>31160.45627</td>\n",
       "    </tr>\n",
       "    <tr>\n",
       "      <th>2017-12-30 23:20:00</th>\n",
       "      <td>6.947</td>\n",
       "      <td>72.6</td>\n",
       "      <td>0.082</td>\n",
       "      <td>0.051</td>\n",
       "      <td>30430.41825</td>\n",
       "    </tr>\n",
       "    <tr>\n",
       "      <th>2017-12-30 23:30:00</th>\n",
       "      <td>6.900</td>\n",
       "      <td>72.8</td>\n",
       "      <td>0.086</td>\n",
       "      <td>0.084</td>\n",
       "      <td>29590.87452</td>\n",
       "    </tr>\n",
       "    <tr>\n",
       "      <th>2017-12-30 23:40:00</th>\n",
       "      <td>6.758</td>\n",
       "      <td>73.0</td>\n",
       "      <td>0.080</td>\n",
       "      <td>0.066</td>\n",
       "      <td>28958.17490</td>\n",
       "    </tr>\n",
       "    <tr>\n",
       "      <th>2017-12-30 23:50:00</th>\n",
       "      <td>6.580</td>\n",
       "      <td>74.1</td>\n",
       "      <td>0.081</td>\n",
       "      <td>0.062</td>\n",
       "      <td>28349.80989</td>\n",
       "    </tr>\n",
       "  </tbody>\n",
       "</table>\n",
       "<p>52416 rows × 5 columns</p>\n",
       "</div>"
      ],
      "text/plain": [
       "                     temperature  humidity  wind_speed  general_diffuse_flows  \\\n",
       "datetime                                                                        \n",
       "2017-01-01 00:00:00        6.559      73.8       0.083                  0.051   \n",
       "2017-01-01 00:10:00        6.414      74.5       0.083                  0.070   \n",
       "2017-01-01 00:20:00        6.313      74.5       0.080                  0.062   \n",
       "2017-01-01 00:30:00        6.121      75.0       0.083                  0.091   \n",
       "2017-01-01 00:40:00        5.921      75.7       0.081                  0.048   \n",
       "...                          ...       ...         ...                    ...   \n",
       "2017-12-30 23:10:00        7.010      72.4       0.080                  0.040   \n",
       "2017-12-30 23:20:00        6.947      72.6       0.082                  0.051   \n",
       "2017-12-30 23:30:00        6.900      72.8       0.086                  0.084   \n",
       "2017-12-30 23:40:00        6.758      73.0       0.080                  0.066   \n",
       "2017-12-30 23:50:00        6.580      74.1       0.081                  0.062   \n",
       "\n",
       "                          zone_1  \n",
       "datetime                          \n",
       "2017-01-01 00:00:00  34055.69620  \n",
       "2017-01-01 00:10:00  29814.68354  \n",
       "2017-01-01 00:20:00  29128.10127  \n",
       "2017-01-01 00:30:00  28228.86076  \n",
       "2017-01-01 00:40:00  27335.69620  \n",
       "...                          ...  \n",
       "2017-12-30 23:10:00  31160.45627  \n",
       "2017-12-30 23:20:00  30430.41825  \n",
       "2017-12-30 23:30:00  29590.87452  \n",
       "2017-12-30 23:40:00  28958.17490  \n",
       "2017-12-30 23:50:00  28349.80989  \n",
       "\n",
       "[52416 rows x 5 columns]"
      ]
     },
     "execution_count": 19,
     "metadata": {},
     "output_type": "execute_result"
    }
   ],
   "source": [
    "df"
   ]
  },
  {
   "cell_type": "code",
   "execution_count": 20,
   "id": "34ae2501",
   "metadata": {},
   "outputs": [
    {
     "data": {
      "text/plain": [
       "(Timestamp('2017-01-01 00:00:00'), Timestamp('2017-12-30 23:50:00'))"
      ]
     },
     "execution_count": 20,
     "metadata": {},
     "output_type": "execute_result"
    }
   ],
   "source": [
    "df.index.min(), df.index.max()"
   ]
  },
  {
   "cell_type": "markdown",
   "id": "e7d01c9f",
   "metadata": {},
   "source": [
    "#### **Enriquecimiento del Dataset con Variables Calculadas**"
   ]
  },
  {
   "cell_type": "code",
   "execution_count": 21,
   "id": "9c4b2c26",
   "metadata": {},
   "outputs": [],
   "source": [
    "# Agregar variable is_weekend bool basada en la columna datetime\n",
    "df['is_weekend'] = df.index.dayofweek >= 5\n",
    "\n",
    "# Agregar variable is_holiday bool basado en el dictionario de días festivos\n",
    "\n",
    "festivos_marruecos = {\n",
    "    \"2017/01/01\": \"Año Nuevo cristiano\",\n",
    "    \"2017/01/11\": \"Aniversario del Manifiesto de la Independencia\",\n",
    "    \"2017/05/01\": \"Día del Trabajador\",\n",
    "    \"2017/07/30\": \"Día de la Coronación / Fiesta del Trono\",\n",
    "    \"2017/08/14\": \"Conmemoración de la lealtad del Oued Eddahab\",\n",
    "    \"2017/08/20\": \"Aniversario de la Revolución del Rey y el Pueblo\",\n",
    "    \"2017/08/21\": \"Fiesta de la Juventud\",\n",
    "    \"2017/11/06\": \"Aniversario de la Marcha Verde\",\n",
    "    \"2017/11/18\": \"Día de la Independencia\",\n",
    "}\n",
    "\n",
    "df['is_holiday'] = df.index.normalize().isin(pd.to_datetime(list(festivos_marruecos.keys())))\n"
   ]
  },
  {
   "cell_type": "code",
   "execution_count": 22,
   "id": "8a78fb6c",
   "metadata": {},
   "outputs": [
    {
     "data": {
      "text/plain": [
       "Index(['temperature', 'humidity', 'wind_speed', 'general_diffuse_flows',\n",
       "       'zone_1', 'is_weekend', 'is_holiday', 'hour', 'day', 'month'],\n",
       "      dtype='object')"
      ]
     },
     "execution_count": 22,
     "metadata": {},
     "output_type": "execute_result"
    }
   ],
   "source": [
    "# Ahora agregaremos la columna hora, fecha, mes y año\n",
    "df['hour'] = df.index.hour\n",
    "df['day'] = df.index.day\n",
    "df['month'] = df.index.month\n",
    "\n",
    "df.columns"
   ]
  },
  {
   "cell_type": "markdown",
   "id": "255c0f5b",
   "metadata": {},
   "source": [
    "#### **Exportación de Datos**"
   ]
  },
  {
   "cell_type": "code",
   "execution_count": 23,
   "id": "c1560b34",
   "metadata": {},
   "outputs": [],
   "source": [
    "df_path = '../data/enriched_zone1_power_consumption_of_tetouan_city.csv'\n",
    "df.to_csv(df_path)"
   ]
  }
 ],
 "metadata": {
  "kernelspec": {
   "display_name": "Python 3",
   "language": "python",
   "name": "python3"
  },
  "language_info": {
   "codemirror_mode": {
    "name": "ipython",
    "version": 3
   },
   "file_extension": ".py",
   "mimetype": "text/x-python",
   "name": "python",
   "nbconvert_exporter": "python",
   "pygments_lexer": "ipython3",
   "version": "3.13.7"
  }
 },
 "nbformat": 4,
 "nbformat_minor": 5
}
