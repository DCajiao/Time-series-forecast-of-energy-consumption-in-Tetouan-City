{
 "cells": [
  {
   "cell_type": "markdown",
   "id": "a241516a",
   "metadata": {},
   "source": [
    "### Entrenamiento, Predicción y Evaluación de un modelo MLP"
   ]
  },
  {
   "cell_type": "markdown",
   "id": "84b66acb",
   "metadata": {},
   "source": [
    "#### **Entrenamiento**"
   ]
  },
  {
   "cell_type": "code",
   "execution_count": null,
   "id": "48071eeb",
   "metadata": {},
   "outputs": [],
   "source": []
  },
  {
   "cell_type": "markdown",
   "id": "2a5878d9",
   "metadata": {},
   "source": [
    "---"
   ]
  },
  {
   "cell_type": "markdown",
   "id": "b85dda6b",
   "metadata": {},
   "source": [
    "#### **Predicción**"
   ]
  },
  {
   "cell_type": "markdown",
   "id": "be775a60",
   "metadata": {},
   "source": [
    "A un paso"
   ]
  },
  {
   "cell_type": "code",
   "execution_count": null,
   "id": "97874192",
   "metadata": {},
   "outputs": [],
   "source": []
  },
  {
   "cell_type": "markdown",
   "id": "98ab5ee0",
   "metadata": {},
   "source": [
    "A múltiples pasos"
   ]
  },
  {
   "cell_type": "code",
   "execution_count": null,
   "id": "056f13e0",
   "metadata": {},
   "outputs": [],
   "source": []
  },
  {
   "cell_type": "markdown",
   "id": "e08215e4",
   "metadata": {},
   "source": [
    "---"
   ]
  },
  {
   "cell_type": "markdown",
   "id": "564d3a83",
   "metadata": {},
   "source": [
    "#### **Analisis de resultados**"
   ]
  },
  {
   "cell_type": "markdown",
   "id": "1895264b",
   "metadata": {},
   "source": [
    "Métricas a evaluar: \n",
    "1. sMAPE\n",
    "2. WAPE"
   ]
  },
  {
   "cell_type": "code",
   "execution_count": null,
   "id": "6b81e357",
   "metadata": {},
   "outputs": [],
   "source": []
  },
  {
   "cell_type": "markdown",
   "id": "45cc6a87",
   "metadata": {},
   "source": [
    "---"
   ]
  }
 ],
 "metadata": {
  "kernelspec": {
   "display_name": "Python 3",
   "language": "python",
   "name": "python3"
  },
  "language_info": {
   "name": "python",
   "version": "3.12.0"
  }
 },
 "nbformat": 4,
 "nbformat_minor": 5
}
